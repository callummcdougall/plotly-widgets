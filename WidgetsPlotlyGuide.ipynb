{
 "cells": [
  {
   "cell_type": "markdown",
   "metadata": {
    "heading_collapsed": true
   },
   "source": [
    "### Imports"
   ]
  },
  {
   "cell_type": "code",
   "execution_count": null,
   "metadata": {
    "ExecuteTime": {
     "end_time": "2022-08-28T17:19:15.645343Z",
     "start_time": "2022-08-28T17:19:15.625275Z"
    },
    "hidden": true
   },
   "outputs": [],
   "source": [
    "import ipywidgets as wg\n",
    "from IPython.display import display, HTML\n",
    "# from IPython.core.interactiveshell import InteractiveShell\n",
    "# InteractiveShell.ast_node_interactivity = \"last_expr\"\n",
    "# display(HTML(\"<style>.container { width:70% !important; }</style>\"))\n",
    "\n",
    "import pandas as pd\n",
    "import numpy as np\n",
    "import scipy\n",
    "\n",
    "import sys, os\n",
    "import time\n",
    "import datetime\n",
    "import re\n",
    "\n",
    "import plotly as py\n",
    "import plotly.graph_objs as go\n",
    "import plotly.express as px\n",
    "import plotly.figure_factory as ff\n",
    "from plotly.colors import n_colors\n",
    "from plotly.subplots import make_subplots"
   ]
  },
  {
   "cell_type": "markdown",
   "metadata": {
    "heading_collapsed": true
   },
   "source": [
    "# `README`"
   ]
  },
  {
   "attachments": {
    "image.png": {
     "image/png": "[encoded data removed]"
    }
   },
   "cell_type": "markdown",
   "metadata": {
    "hidden": true
   },
   "source": [
    "This is a notebook with example [Plotly](https://plotly.com/python/) and [IPyWidgets](https://ipywidgets.readthedocs.io/en/latest/examples/Widget%20Basics.html) code. Most of it was taken from the respective websites' documentation pages; some of it was written by me.\n",
    "\n",
    "**`widgets`** are python objects that can be visually represented in the notebook, e.g. sliders, textboxes or dropdowns. They can be used to build interactive GUIs.\n",
    "\n",
    "**`plotly`** is a library for producing interactive graphs. It also matches all the features of a conventional library like matplotlib, and (in my opinion) can be a lot more intuitive to use. There are 2 main ways to create graphs in plotly: using **`plotly graph objects`** (imported as **`go`**, this is more low-level, and gives you more control over the graph) and **`plotly express`** (imported as **`px`**, this is useful for easily producing nice-looking graphs with very little code).\n",
    "\n",
    "Plotly and widgets can be combined to create interactive output that you control the appearance of (e.g. using dropdowns to select different groups of data to show on a graph).\n",
    "\n",
    "<hr style=\"border:2px solid gray\"> </hr>\n",
    "\n",
    "### The purpose of this guide\n",
    "\n",
    "This guide has two main purposes. \n",
    "\n",
    "The first is to provide a condensed summary of what I see as the most useful parts of both libaries, without having to scroll through endless tutorials and documentation pages.\n",
    "\n",
    "The second is to provide a useful resource to find code which produces the plot / widget you want. \n",
    "\n",
    "I'd recommend this Jupyter Notebook mainly for the first purpose; if you're using it for the second purpose then you might find the Streamlit site more useful.\n",
    "\n",
    "<hr style=\"border:2px solid gray\"> </hr>\n",
    "\n",
    "### How to read this\n",
    "\n",
    "You might have noticed that this notebook is pretty long! For that reason, I'd recommend installing the Jupyter extension `collapsible headings`. That way, you'll be able to navigate the notebook more easily, by using the dropdown headings:\n",
    "\n",
    "![image.png](attachment:image.png)\n",
    "\n",
    "You can run the notebook to generate all output by pressing `Cell` -> `Run All` in the top menu. Note that you might have to install some libraries (all the libraries you'll need are imported in the first cell of this notebook).\n",
    "\n",
    "<hr style=\"border:2px solid gray\"> </hr>\n",
    "\n",
    "### Contents\n",
    "\n",
    "* **`plotly`**\n",
    "    * **Introduction** — describes what Plotly is in more detail, and goes over the core Plotly syntax\n",
    "    * **Basic Features** — shows how to add features like legend, titles, error bars and hover text to graphs\n",
    "    * **Chart Cypes** — showcases a variety of different plotly charts (e.g. line, scatter, heatmap)\n",
    "* **`widgets`**\n",
    "    * **Introduction** — gives an overview of what widgets are, goes over the core syntax for widgets\n",
    "    * **Widget Types** — showcases most available widgets\n",
    "    * **Layout** — shows how to display widgets together, and give them a nice layout\n",
    "    * **Output, Interactions & Events** — shows how to use widgets in other functions' input and output\n",
    "* **`plotly & widgets`** — showcases a few examples of widgets being used as a GUI to interact with plotly graphs\n",
    "\n",
    "<hr style=\"border:2px solid gray\"> </hr>\n",
    "\n",
    "If you find this guide useful, I'd love to know (and also if you create any cool graphs that you think could be added to this notebook, please send them!).\n",
    "\n",
    "Happy plotting!\n",
    "\n",
    "<hr style=\"border:2px solid gray\"> </hr>"
   ]
  },
  {
   "cell_type": "markdown",
   "metadata": {
    "heading_collapsed": true
   },
   "source": [
    "# `plotly`: Introduction"
   ]
  },
  {
   "cell_type": "markdown",
   "metadata": {
    "heading_collapsed": true,
    "hidden": true
   },
   "source": [
    "## Why `plotly`?"
   ]
  },
  {
   "cell_type": "markdown",
   "metadata": {
    "hidden": true
   },
   "source": [
    "Learning a new library's syntax is hard and time-consuming, especially so for plotting libraries (since there are so many different things you might want to plot). Many people reading this are probably already familiar with `matplotlib`, and might be wondering why they would want to switch. Here, I sketch out a few reasons why I made the jump, and consider Plotly to be superior to matplotlib. I'll elaborate on each of these later on.\n",
    "\n",
    "## The plots are interactive\n",
    "\n",
    "This is the big one. Matplotlib does make interactive plots, but they aren't nearly as big a feature for that programming langauge. In contrast, all of Plotly's graphs are interactive by default. You can zoom in on particular chunks of data, hover over it to see values, etc. This is a massive help when you're trying to make sense of data, whether that means examining the activations of neurons in a transformer, or examining in detail a certain trading pattern from a week in 2019.\n",
    "\n",
    "Below is just one example of a powerful interactive graph which you can create with a very small amount of code. You can try hovering over datapoints to see extra information, or clicking and dragging to zoom in on a section of the graph (and double clicking to reset the axes)."
   ]
  },
  {
   "cell_type": "code",
   "execution_count": null,
   "metadata": {
    "ExecuteTime": {
     "end_time": "2022-08-28T00:27:28.505880Z",
     "start_time": "2022-08-28T00:27:28.410271Z"
    },
    "hidden": true
   },
   "outputs": [],
   "source": [
    "df = px.data.gapminder().query(\"year==2007\")\n",
    "\n",
    "fig = px.scatter(df, x=\"gdpPercap\", y=\"lifeExp\",\n",
    "                 size=\"pop\", color=\"continent\",\n",
    "                 hover_name=\"country\", log_x=True, size_max=60)\n",
    "\n",
    "fig.show()"
   ]
  },
  {
   "cell_type": "markdown",
   "metadata": {
    "hidden": true
   },
   "source": [
    "This is in my view the biggest advantage that Plotly offers.\n",
    "\n",
    "## Intuitive functions and parameters\n",
    "\n",
    "I personally found matplotlib quite hard to learn, because the functions and params and the ways they were used never seemed intuitive for me. Plotly always seemed more straightforward. To summarise how the core parts of it work:\n",
    "\n",
    "> You first define a figure. This can either be from plotly express (e.g. `px.scatter`) or from plotly graph objects (e.g. `go.Figure(data=go.Scatter)`). `px` generally requires less code, while `go` requires more code but gives you more low-level control. Both `px` and `go` will accept data in the form of lists or arrays, but if you use `px` then you have the added option of passing in data as a dataframe, and having the other arguments refer to column names of that dataframe.\n",
    "\n",
    "> You can then update the figure by calling the method `update_traces` (to change the data) or `update_layout` (to change the appearance). Most parameters are accessed via nested dictionaries, e.g. you would pass `title = dict(text=\"My Title\")` into the update layout function to change the title. This can also be abbreviated to `title_text=\"My Title` (this is called magic underscore notation in Plotly).\n",
    "\n",
    "The documentation pages for Plotly are also really good, and you can find basically any kind of graph you want there.\n",
    "\n",
    "## Integration with IPython widgets\n",
    "\n",
    "Widgets are interactive ways to control certain values in Python (e.g. sliders, or dropdown menus). These can be easily combined with Plotly using the `go.FigureWidget` wrapper to create graphs which change in response to the widgets' values. This is another great way to explore your data in more detail.\n",
    "\n",
    "---\n",
    "\n",
    "I expect matplotlib to still be the best tool for some tasks, and it might be that learning a new graphing library doesn't appeal to you. But before you reject the idea, I'd encourage you to look through some of the other sections of this course, and give it a try!"
   ]
  },
  {
   "cell_type": "markdown",
   "metadata": {
    "heading_collapsed": true,
    "hidden": true
   },
   "source": [
    "## The `Figure` object"
   ]
  },
  {
   "cell_type": "markdown",
   "metadata": {
    "hidden": true
   },
   "source": [
    "The core object in Plotly is the Figure object, which is pretty similar to the Figure object in matplotlib. It has quite a few attributes, but the most important ones are **`data`** and **`layout`**.\n",
    "\n",
    "* **`data`** contains the actual data of the figure, in the form of a list of **`traces`**. A trace is a single set of related graphical marks in a figure. For instance, the plot below has three traces, corresponding to the three groups of differently-formatted points.\n",
    "\n",
    "* **`layout`** contains the top-level attributes of the figure, such as dimensions, margins, titles and axes.\n",
    "\n",
    "### Creating and Displaying Figures\n",
    "\n",
    "The low-level way to create figures in plotly is by using **`plotly.graph_objects`**. \n",
    "\n",
    "You can display figures in your notebook by using **`fig.show()`**."
   ]
  },
  {
   "cell_type": "code",
   "execution_count": null,
   "metadata": {
    "hidden": true
   },
   "outputs": [],
   "source": [
    "import plotly.graph_objects as go\n",
    "\n",
    "fig = go.Figure(\n",
    "    data=[go.Bar(x=[1, 2, 3], y=[1, 3, 2])],\n",
    "    layout=go.Layout(height=400, width=600)\n",
    ")\n",
    "fig.show()"
   ]
  },
  {
   "cell_type": "code",
   "execution_count": null,
   "metadata": {
    "ExecuteTime": {
     "end_time": "2022-08-27T22:00:35.012790Z",
     "start_time": "2022-08-27T22:00:34.997091Z"
    },
    "hidden": true
   },
   "outputs": [],
   "source": [
    "fig.data"
   ]
  },
  {
   "cell_type": "code",
   "execution_count": null,
   "metadata": {
    "ExecuteTime": {
     "end_time": "2022-08-27T22:00:35.688916Z",
     "start_time": "2022-08-27T22:00:35.668023Z"
    },
    "hidden": true
   },
   "outputs": [],
   "source": [
    "fig.layout"
   ]
  },
  {
   "cell_type": "markdown",
   "metadata": {
    "hidden": true
   },
   "source": [
    "Here we can see that `data` is stored as a tuple of traces (in this case just one), and `layout` is stored as a single object. We can extract a specific value either as an attribute, or by treating it as a dictionary. Many properties of graphs can be accessed and initialised as nested dictionaries."
   ]
  },
  {
   "cell_type": "code",
   "execution_count": null,
   "metadata": {
    "ExecuteTime": {
     "end_time": "2022-08-27T22:00:36.868477Z",
     "start_time": "2022-08-27T22:00:36.859254Z"
    },
    "hidden": true
   },
   "outputs": [],
   "source": [
    "fig.data[0].x"
   ]
  },
  {
   "cell_type": "code",
   "execution_count": null,
   "metadata": {
    "ExecuteTime": {
     "end_time": "2022-08-27T22:00:43.792650Z",
     "start_time": "2022-08-27T22:00:43.775229Z"
    },
    "hidden": true
   },
   "outputs": [],
   "source": [
    "fig.layout[\"height\"]"
   ]
  },
  {
   "cell_type": "markdown",
   "metadata": {
    "hidden": true
   },
   "source": [
    "\n",
    "\n",
    "### Updating Figures\n",
    "\n",
    "Graphs can be updated by using the methods **`update_traces`** (for the data) and **`update_layout`** (for the layout). An example is shown below."
   ]
  },
  {
   "cell_type": "code",
   "execution_count": null,
   "metadata": {
    "ExecuteTime": {
     "end_time": "2022-08-27T22:02:14.510975Z",
     "start_time": "2022-08-27T22:02:14.492927Z"
    },
    "hidden": true
   },
   "outputs": [],
   "source": [
    "fig.update_traces(marker_color=\"red\")\n",
    "fig.update_layout(title_text=\"A Figure Specified By A Graph Object\", width=600, height=400)\n",
    "\n",
    "fig.show()"
   ]
  },
  {
   "cell_type": "markdown",
   "metadata": {
    "hidden": true
   },
   "source": [
    "Note — you might expect **`marker_color`** to be under layout, not traces. However, layout deals with the top-level attributes of the figure (e.g. title and legend), whereas traces deals with the values *and appearance* of the *data*, so this includes things like marker colour."
   ]
  },
  {
   "cell_type": "markdown",
   "metadata": {
    "heading_collapsed": true,
    "hidden": true
   },
   "source": [
    "## Magic underscore notation"
   ]
  },
  {
   "cell_type": "markdown",
   "metadata": {
    "hidden": true
   },
   "source": [
    "**Magic underscore notation** is how we string together nested properties, to make code look nicer. For instance, we called `update_layout(title_text=...)` in the code above, i.e. using an underscore to connect `title` and `text`. We can also use nested dictionaries, which can be more useful when we want to set multiple sub-properties at once. \n",
    "\n",
    "Example:"
   ]
  },
  {
   "cell_type": "code",
   "execution_count": null,
   "metadata": {
    "ExecuteTime": {
     "end_time": "2022-08-27T18:19:37.788764Z",
     "start_time": "2022-08-27T18:19:37.758686Z"
    },
    "hidden": true
   },
   "outputs": [],
   "source": [
    "fig.update_layout(\n",
    "    title=dict(\n",
    "        text=\"We can use dictionaries rather than underscores!\",\n",
    "        font=dict(\n",
    "            family=\"Times New Roman\",\n",
    "            color=\"red\"\n",
    "        )\n",
    "    )\n",
    ")\n",
    "fig.show()"
   ]
  },
  {
   "cell_type": "markdown",
   "metadata": {
    "hidden": true
   },
   "source": [
    "This is equivalent to the following code:\n",
    "\n",
    "    fig.update_layout(\n",
    "        title_text=\"We can use dictionaries rather than underscores!\",\n",
    "        title_font_family=\"Times New Roman\",\n",
    "        title_font_color=\"red\"\n",
    "    )"
   ]
  },
  {
   "cell_type": "markdown",
   "metadata": {
    "heading_collapsed": true,
    "hidden": true
   },
   "source": [
    "## Plotly Express vs. Graph Objects"
   ]
  },
  {
   "cell_type": "markdown",
   "metadata": {
    "hidden": true
   },
   "source": [
    "We have already covered plotly graph objects, and how they are used to construct figures. The other main way to construct figures in plotly is by using **`plotly.express`**. Below is a comparison of the two methods.\n",
    "\n",
    "### **Plotly graph objects** \n",
    "* Usually imported as **`import plotly.graph_objects as go`**\n",
    "* More low-level, and gives you more control over the graph\n",
    "* Makes some features easier to implement, e.g. subplots or faceted plots\n",
    "    \n",
    "### **Plotly express**\n",
    "* Usually imported as **`import plotly.express as px`**\n",
    "* Creates entire figures at once, with very little code\n",
    "* Automates a lot of plotly features, like hover labels and styling\n",
    "* Very useful for quite niche graphs (e.g. treemaps)\n",
    "* Can read in data as a dataframe, rather than just arrays\n",
    "\n",
    "### Which one to use?\n",
    "\n",
    "In reality, plotly express is built on top of graph objects, it just abstracts away some of the details. However, there are still times when graph objects are easier to use. In the code below, we'll see lots of examples of both.\n",
    "\n",
    "One big advantage of plotly express is that data for graphs can be supplied by a Pandas dataframe. The basic idea is that you have `df` as your first argument, and then other arguments like `x`, `y`, `color` are set to column names rather than arrays. Below is an example of this in action:"
   ]
  },
  {
   "cell_type": "code",
   "execution_count": null,
   "metadata": {
    "ExecuteTime": {
     "end_time": "2022-08-27T23:23:54.185223Z",
     "start_time": "2022-08-27T23:23:54.156699Z"
    },
    "hidden": true
   },
   "outputs": [],
   "source": [
    "df = pd.DataFrame({\n",
    "  \"Fruit\": [\"Apples\", \"Oranges\", \"Bananas\", \"Apples\", \"Oranges\", \"Bananas\"],\n",
    "  \"Contestant\": [\"Alex\", \"Alex\", \"Alex\", \"Jordan\", \"Jordan\", \"Jordan\"],\n",
    "  \"Number Eaten\": [2, 1, 3, 1, 3, 2],\n",
    "})"
   ]
  },
  {
   "cell_type": "code",
   "execution_count": null,
   "metadata": {
    "ExecuteTime": {
     "end_time": "2022-08-27T23:23:54.656668Z",
     "start_time": "2022-08-27T23:23:54.595447Z"
    },
    "hidden": true
   },
   "outputs": [],
   "source": [
    "import plotly.express as px\n",
    "\n",
    "fig = px.bar(df, x=\"Fruit\", y=\"Number Eaten\", color=\"Contestant\", barmode=\"group\")\n",
    "fig.show()"
   ]
  },
  {
   "cell_type": "markdown",
   "metadata": {
    "hidden": true
   },
   "source": [
    "On the other hand, if you created this using graph objects, the code to create this same graph would be a lot longer:"
   ]
  },
  {
   "cell_type": "code",
   "execution_count": null,
   "metadata": {
    "ExecuteTime": {
     "end_time": "2022-08-27T23:26:26.683983Z",
     "start_time": "2022-08-27T23:26:26.663695Z"
    },
    "hidden": true
   },
   "outputs": [],
   "source": [
    "import plotly.graph_objects as go\n",
    "\n",
    "fig = go.Figure()\n",
    "for contestant, group in df.groupby(\"Contestant\"):\n",
    "    fig.add_trace(go.Bar(\n",
    "        x=group[\"Fruit\"], y=group[\"Number Eaten\"], name=contestant,\n",
    "        hovertemplate=\"Contestant=%s<br>Fruit=%%{x}<br>Number Eaten=%%{y}<extra></extra>\"% contestant\n",
    "    ))\n",
    "fig.update_layout(legend_title_text=\"Contestant\")\n",
    "fig.update_xaxes(title_text=\"Fruit\")\n",
    "fig.update_yaxes(title_text=\"Number Eaten\")\n",
    "fig.show()"
   ]
  },
  {
   "cell_type": "markdown",
   "metadata": {
    "hidden": true
   },
   "source": [
    "From this, it might seem like `px` is obviously better than `go`. This is often true (and most examples below will use `px` rather than `go`), but not always. For instance, `go` handles subplots much better, and there are some specific features like error bars which work better when you have the low-level control that `go` provides. "
   ]
  },
  {
   "cell_type": "markdown",
   "metadata": {
    "heading_collapsed": true
   },
   "source": [
    "# `plotly`: Basic Features"
   ]
  },
  {
   "cell_type": "markdown",
   "metadata": {
    "heading_collapsed": true,
    "hidden": true
   },
   "source": [
    "## Image size & margins\n",
    "\n",
    "By default, Plotly graphs take up the whole notebook width, and have quite large margins. Using **`fig.update_layout`** you can change this. Three especially useful arguments are **`width`**, **`height`** and **`margin`**. Note that the `l`, `r`, `t` and `b` parameters in the `margin` dict stand for left, right, top and bottom respectively."
   ]
  },
  {
   "cell_type": "code",
   "execution_count": null,
   "metadata": {
    "ExecuteTime": {
     "end_time": "2022-08-27T18:19:38.058161Z",
     "start_time": "2022-08-27T18:19:38.043122Z"
    },
    "hidden": true
   },
   "outputs": [],
   "source": [
    "fig = go.Figure(go.Scatter(\n",
    "    x = [1,2,3,4,5],\n",
    "    y = [2.02,1.63,6.83,4.84,4.73]\n",
    "))\n",
    "\n",
    "fig.update_layout(margin=dict(l=20,r=20,t=20,b=20), width=400, height=250)\n",
    "fig.show()"
   ]
  },
  {
   "cell_type": "markdown",
   "metadata": {
    "heading_collapsed": true,
    "hidden": true
   },
   "source": [
    "## Titles\n",
    "\n",
    "This section describes how to add titles to your graph, axes and legend. This can be done while creating the figure, or can be added later."
   ]
  },
  {
   "cell_type": "markdown",
   "metadata": {
    "hidden": true
   },
   "source": [
    "You can add titles in plotly express using the **`title`** argument, and you can also add titles to the legend and axes by passing a dictionary to the **`labels`** argument. For example:"
   ]
  },
  {
   "cell_type": "code",
   "execution_count": null,
   "metadata": {
    "ExecuteTime": {
     "end_time": "2022-08-27T18:19:38.135376Z",
     "start_time": "2022-08-27T18:19:38.060165Z"
    },
    "hidden": true
   },
   "outputs": [],
   "source": [
    "df = px.data.iris()\n",
    "fig = px.scatter(\n",
    "    df, x=\"sepal_length\", y=\"sepal_width\", color=\"species\",\n",
    "    labels={\n",
    "        \"sepal_length\": \"Sepal Length (cm)\",\n",
    "        \"sepal_width\": \"Sepal Width (cm)\",\n",
    "        \"species\": \"Species of Iris\"\n",
    "    },\n",
    "    title=\"Manually Specified Labels\"\n",
    ")\n",
    "fig.show()"
   ]
  },
  {
   "cell_type": "markdown",
   "metadata": {
    "hidden": true
   },
   "source": [
    "Note that the keys of `labels` are the keyword arguments in the line above. If you didn't use a dataframe but instead used arrays for `x`, `y` and `color`, you can find out what your label keys should be by plotting the graph without labels and seeing what text appears on the axes by default - this text should be what you use as keys of your `labels` dict."
   ]
  },
  {
   "cell_type": "markdown",
   "metadata": {
    "hidden": true
   },
   "source": [
    "Alternatively, you can change the titles using the **`update_layout`** function:"
   ]
  },
  {
   "cell_type": "code",
   "execution_count": null,
   "metadata": {
    "ExecuteTime": {
     "end_time": "2022-08-27T18:19:38.166225Z",
     "start_time": "2022-08-27T18:19:38.138385Z"
    },
    "hidden": true
   },
   "outputs": [],
   "source": [
    "fig = go.Figure()\n",
    "\n",
    "fig.add_trace(go.Scatter(\n",
    "    x=[0, 1, 2, 3, 4, 5, 6, 7, 8],\n",
    "    y=[0, 1, 2, 3, 4, 5, 6, 7, 8],\n",
    "    name=\"Name of Trace 1\"       # this sets its legend entry\n",
    "))\n",
    "\n",
    "fig.add_trace(go.Scatter(\n",
    "    x=[0, 1, 2, 3, 4, 5, 6, 7, 8],\n",
    "    y=[1, 0, 3, 2, 5, 4, 7, 6, 8],\n",
    "    name=\"Name of Trace 2\"\n",
    "))\n",
    "\n",
    "fig.update_layout(\n",
    "    title=\"Plot Title\",\n",
    "    xaxis_title=\"X Axis Title\",\n",
    "    yaxis_title=\"Y Axis Title\",\n",
    "    legend_title=\"Legend Title\",\n",
    "    font=dict(\n",
    "        family=\"Courier New, monospace\",\n",
    "        size=18,\n",
    "        color=\"RebeccaPurple\"\n",
    "    )\n",
    ")\n",
    "\n",
    "fig.show()"
   ]
  },
  {
   "cell_type": "markdown",
   "metadata": {
    "heading_collapsed": true,
    "hidden": true
   },
   "source": [
    "## Legend\n",
    "\n",
    "Legends are shown to the right of the image by default. This shows how you can hide the legend, or customise it.\n",
    "\n",
    "Note - you can click on an item in a legend to toggle whether it is visible in a graph (try it for the examples below!)."
   ]
  },
  {
   "cell_type": "code",
   "execution_count": null,
   "metadata": {
    "ExecuteTime": {
     "end_time": "2022-08-27T18:19:38.181498Z",
     "start_time": "2022-08-27T18:19:38.168463Z"
    },
    "hidden": true
   },
   "outputs": [],
   "source": [
    "# hiding legends\n",
    "\n",
    "fig = go.Figure(\n",
    "    data=[\n",
    "        go.Scatter(x = [1,2,3,4,5], y = [2.02,1.63,6.83,4.84,4.73]), \n",
    "        go.Scatter(x = [1,2,3,4,5], y = [3.02,2.63,7.83,5.84,5.73]), \n",
    "    ]\n",
    ")\n",
    "\n",
    "fig.update_layout(showlegend=False)\n",
    "fig.show()"
   ]
  },
  {
   "cell_type": "code",
   "execution_count": null,
   "metadata": {
    "ExecuteTime": {
     "end_time": "2022-08-27T18:19:38.197540Z",
     "start_time": "2022-08-27T18:19:38.182501Z"
    },
    "hidden": true
   },
   "outputs": [],
   "source": [
    "# giving legends a name\n",
    "\n",
    "fig = go.Figure()\n",
    "\n",
    "fig.add_trace(go.Scatter(\n",
    "    x=[0, 1, 2, 3, 4, 5, 6, 7, 8],\n",
    "    y=[0, 1, 2, 3, 4, 5, 6, 7, 8],\n",
    "    name=\"Name of Trace 1\"       # this sets its legend entry\n",
    "))\n",
    "\n",
    "\n",
    "fig.add_trace(go.Scatter(\n",
    "    x=[0, 1, 2, 3, 4, 5, 6, 7, 8],\n",
    "    y=[1, 0, 3, 2, 5, 4, 7, 6, 8],\n",
    "    name=\"Name of Trace 2\"\n",
    "))\n",
    "\n",
    "fig.update_layout(legend_title=\"Legend Title\")\n",
    "\n",
    "fig.show()"
   ]
  },
  {
   "cell_type": "code",
   "execution_count": null,
   "metadata": {
    "ExecuteTime": {
     "end_time": "2022-08-27T18:19:38.289782Z",
     "start_time": "2022-08-27T18:19:38.199546Z"
    },
    "hidden": true
   },
   "outputs": [],
   "source": [
    "df = px.data.gapminder().query(\"year==2007\")\n",
    "fig = px.scatter(df, x=\"gdpPercap\", y=\"lifeExp\", color=\"continent\",\n",
    "    size=\"pop\", size_max=45, log_x=True)\n",
    "\n",
    "fig.update_layout(legend=dict(\n",
    "    yanchor=\"top\",\n",
    "    y=0.99,\n",
    "    xanchor=\"left\",\n",
    "    x=0.01\n",
    "))\n",
    "\n",
    "fig.show()"
   ]
  },
  {
   "cell_type": "markdown",
   "metadata": {
    "heading_collapsed": true,
    "hidden": true
   },
   "source": [
    "## Error bars & bounds\n",
    "\n",
    "This shows how you can add error bars and error bounds to scatter plots."
   ]
  },
  {
   "cell_type": "code",
   "execution_count": null,
   "metadata": {
    "ExecuteTime": {
     "end_time": "2022-08-27T18:19:38.304821Z",
     "start_time": "2022-08-27T18:19:38.291787Z"
    },
    "hidden": true
   },
   "outputs": [],
   "source": [
    "fig = go.Figure(data=go.Scatter(\n",
    "    x=[1, 2, 3, 4],\n",
    "    y=[2, 1, 3, 4],\n",
    "    error_y=dict(\n",
    "        type='data',\n",
    "        symmetric=False,\n",
    "        array=[0.2, 0.2, 0.2, 0.2],\n",
    "        arrayminus=[0.3, 0.6, 0.9, 1.2])\n",
    "))\n",
    "\n",
    "fig.show()"
   ]
  },
  {
   "cell_type": "code",
   "execution_count": null,
   "metadata": {
    "ExecuteTime": {
     "end_time": "2022-08-27T18:19:38.320862Z",
     "start_time": "2022-08-27T18:19:38.305823Z"
    },
    "hidden": true
   },
   "outputs": [],
   "source": [
    "fig = go.Figure(data=go.Scatter(\n",
    "        x=[0, 1, 2],\n",
    "        y=[6, 10, 2],\n",
    "        error_y=dict(\n",
    "            type='percent',\n",
    "            value=50,\n",
    "            visible=True)\n",
    "    ))\n",
    "fig.show()"
   ]
  },
  {
   "cell_type": "code",
   "execution_count": null,
   "metadata": {
    "ExecuteTime": {
     "end_time": "2022-08-27T18:19:38.602600Z",
     "start_time": "2022-08-27T18:19:38.322868Z"
    },
    "hidden": true
   },
   "outputs": [],
   "source": [
    "df = pd.read_csv('https://raw.githubusercontent.com/plotly/datasets/master/wind_speed_laurel_nebraska.csv')\n",
    "\n",
    "fig = go.Figure([\n",
    "    go.Scatter(\n",
    "        x=df['Time'],\n",
    "        y=df['10 Min Sampled Avg'],\n",
    "        mode='lines',\n",
    "        line_color='rgb(31, 119, 180)'\n",
    "    ),\n",
    "    go.Scatter(\n",
    "        x=df['Time'],\n",
    "        y=df['10 Min Sampled Avg']+df['10 Min Std Dev'],\n",
    "        mode='lines',\n",
    "        marker_color=\"#444\",\n",
    "        line_width=0\n",
    "    ),\n",
    "    go.Scatter(\n",
    "        x=df['Time'],\n",
    "        y=df['10 Min Sampled Avg']-df['10 Min Std Dev'],\n",
    "        marker_color=\"#444\",\n",
    "        line_width=0,\n",
    "        mode='lines',\n",
    "        fillcolor='rgba(68, 68, 68, 0.3)',\n",
    "        fill='tonexty'\n",
    "    )\n",
    "])\n",
    "\n",
    "fig.update_traces(showlegend=False)\n",
    "fig.show()"
   ]
  },
  {
   "cell_type": "markdown",
   "metadata": {
    "hidden": true
   },
   "source": [
    "## Colours\n",
    "\n",
    "This describes the different colours that plotly supports (both individual colours, and colour scales). \n",
    "\n",
    "Each subsection here includes a way to see the full list of colours, and how to use these colours in a plot."
   ]
  },
  {
   "cell_type": "markdown",
   "metadata": {
    "heading_collapsed": true,
    "hidden": true
   },
   "source": [
    "### Discrete colors"
   ]
  },
  {
   "cell_type": "code",
   "execution_count": null,
   "metadata": {
    "ExecuteTime": {
     "end_time": "2022-08-27T18:19:38.650726Z",
     "start_time": "2022-08-27T18:19:38.603602Z"
    },
    "hidden": true
   },
   "outputs": [],
   "source": [
    "fig = px.colors.qualitative.swatches()\n",
    "fig.show()"
   ]
  },
  {
   "cell_type": "code",
   "execution_count": null,
   "metadata": {
    "ExecuteTime": {
     "end_time": "2022-08-27T18:19:38.744974Z",
     "start_time": "2022-08-27T18:19:38.651729Z"
    },
    "hidden": true
   },
   "outputs": [],
   "source": [
    "fig = px.colors.sequential.swatches()\n",
    "fig.update_layout(height=1600)\n",
    "fig.show()"
   ]
  },
  {
   "cell_type": "code",
   "execution_count": null,
   "metadata": {
    "ExecuteTime": {
     "end_time": "2022-08-27T18:19:38.824244Z",
     "start_time": "2022-08-27T18:19:38.746978Z"
    },
    "hidden": true
   },
   "outputs": [],
   "source": [
    "df = px.data.wind()\n",
    "fig = px.bar_polar(\n",
    "    df, r=\"frequency\", theta=\"direction\", color=\"strength\",\n",
    "    color_discrete_sequence= px.colors.sequential.Plotly3,\n",
    "    title=\"Part of a continuous color scale used as a discrete sequence\"\n",
    ")\n",
    "\n",
    "fig.show()"
   ]
  },
  {
   "cell_type": "markdown",
   "metadata": {
    "heading_collapsed": true,
    "hidden": true
   },
   "source": [
    "### Continuous colour scales"
   ]
  },
  {
   "cell_type": "code",
   "execution_count": null,
   "metadata": {
    "ExecuteTime": {
     "end_time": "2022-08-27T18:19:39.121983Z",
     "start_time": "2022-08-27T18:19:38.826184Z"
    },
    "hidden": true
   },
   "outputs": [],
   "source": [
    "fig = px.colors.sequential.swatches_continuous()\n",
    "fig.update_layout(height=1600)\n",
    "fig.show()"
   ]
  },
  {
   "cell_type": "code",
   "execution_count": null,
   "metadata": {
    "ExecuteTime": {
     "end_time": "2022-08-27T18:19:39.244447Z",
     "start_time": "2022-08-27T18:19:39.122986Z"
    },
    "hidden": true
   },
   "outputs": [],
   "source": [
    "fig = px.colors.diverging.swatches_continuous()\n",
    "fig.show()"
   ]
  },
  {
   "cell_type": "code",
   "execution_count": null,
   "metadata": {
    "ExecuteTime": {
     "end_time": "2022-08-27T18:19:39.307588Z",
     "start_time": "2022-08-27T18:19:39.246451Z"
    },
    "hidden": true,
    "scrolled": true
   },
   "outputs": [],
   "source": [
    "fig = make_subplots(rows=2, cols=2, shared_yaxes=True, shared_xaxes=True, horizontal_spacing=0.1, vertical_spacing=0.1)\n",
    "\n",
    "for (row_idx, col_idx), continuous_colorscale in zip([(0, 0), (0, 1), (1, 0), (1, 1)], [\"Viridis\", \"Cividis\", \"Purples\", \"RdBu\"]):\n",
    "    fig.add_trace(\n",
    "        go.Contour(\n",
    "            z=np.outer(np.arange(5), np.arange(5)) + np.random.normal(0, 4, (5, 5)),\n",
    "            colorscale=continuous_colorscale,\n",
    "            colorbar=dict(len=0.52, y=0.78-0.55*row_idx, x=0.46+0.55*col_idx) \n",
    "            # previous line is just to get the two separate colorbars in the right positions\n",
    "        ),\n",
    "        row=row_idx+1, col=col_idx+1\n",
    "    )\n",
    "\n",
    "fig.update_layout(title_text=\"Sample of different continuous colour scales\")\n",
    "fig.show()"
   ]
  },
  {
   "cell_type": "markdown",
   "metadata": {
    "heading_collapsed": true,
    "hidden": true
   },
   "source": [
    "## Templates\n",
    "\n",
    "This is a fun and easy way to make plotly charts look cool! "
   ]
  },
  {
   "cell_type": "markdown",
   "metadata": {
    "hidden": true
   },
   "source": [
    "You just pass the `templates` keyword argument into your plotly express graph (or your `go.Layout` call). It takes a string as an argument. The options are:\n",
    "\n",
    "* `plotly` (default)\n",
    "* `plotly_light`\n",
    "* `plotly_dark`\n",
    "* `simple_white`\n",
    "* `ggplot2`\n",
    "* `seaborn`\n",
    "* `presentation`\n",
    "\n",
    "Each of these will change lots of aspects of the graph (e.g. font, colors, sizing). It can be a quick way to get nice-looking graphs without messing around with formatting!"
   ]
  },
  {
   "cell_type": "code",
   "execution_count": null,
   "metadata": {
    "ExecuteTime": {
     "end_time": "2022-08-27T18:19:39.447871Z",
     "start_time": "2022-08-27T18:19:39.309503Z"
    },
    "hidden": true
   },
   "outputs": [],
   "source": [
    "fig = go.Figure(go.Scatter(\n",
    "    x = [1,2,3,4,5],\n",
    "    y = [2.02,1.63,6.83,4.84,4.73]\n",
    "))\n",
    "\n",
    "fig.update_layout(margin=dict(l=20,r=20,t=60,b=20), width=400, height=250)\n",
    "\n",
    "for template in [\"plotly\", \"plotly_white\", \"plotly_dark\", \"ggplot2\", \"seaborn\", \"simple_white\", \"presentation\"]:\n",
    "    fig.update_layout(title_text=template, template=template)\n",
    "    fig.show()"
   ]
  },
  {
   "cell_type": "markdown",
   "metadata": {
    "heading_collapsed": true,
    "hidden": true
   },
   "source": [
    "## Adding shapes\n",
    "\n",
    "This section describes how you can add shapes to images. Examples include lines, bars, or just regular polygons. It also shows how you can customise graphs to enable you to draw your own shapes (e.g. to highlight some points on a scatter plot)."
   ]
  },
  {
   "cell_type": "markdown",
   "metadata": {
    "heading_collapsed": true,
    "hidden": true
   },
   "source": [
    "### Lines"
   ]
  },
  {
   "cell_type": "code",
   "execution_count": null,
   "metadata": {
    "ExecuteTime": {
     "end_time": "2022-08-27T18:19:39.480027Z",
     "start_time": "2022-08-27T18:19:39.448875Z"
    },
    "hidden": true
   },
   "outputs": [],
   "source": [
    "fig = go.Figure()\n",
    "\n",
    "fig.add_trace(go.Scatter(\n",
    "    x=[2, 3.5, 6],\n",
    "    y=[1, 1.5, 1],\n",
    "    text=[\"Vertical Line\",\n",
    "          \"Horizontal Dashed Line\",\n",
    "          \"Diagonal dotted Line\"],\n",
    "    mode=\"text\",\n",
    "))\n",
    "\n",
    "fig.update_xaxes(range=[0, 7])\n",
    "fig.update_yaxes(range=[0, 2.5])\n",
    "\n",
    "fig.add_shape(type=\"line\",\n",
    "    x0=1, y0=0, x1=1, y1=2,\n",
    "    line=dict(color=\"RoyalBlue\",width=3)\n",
    ")\n",
    "fig.add_shape(type=\"line\",\n",
    "    x0=2, y0=2, x1=5, y1=2,\n",
    "    line=dict(\n",
    "        color=\"LightSeaGreen\",\n",
    "        width=4,\n",
    "        dash=\"dashdot\",\n",
    "    )\n",
    ")\n",
    "fig.add_shape(type=\"line\",\n",
    "    x0=4, y0=0, x1=6, y1=2,\n",
    "    line=dict(\n",
    "        color=\"MediumPurple\",\n",
    "        width=4,\n",
    "        dash=\"dot\",\n",
    "    )\n",
    ")\n",
    "fig.show()"
   ]
  },
  {
   "cell_type": "markdown",
   "metadata": {
    "hidden": true
   },
   "source": [
    "### Rectangles"
   ]
  },
  {
   "cell_type": "code",
   "execution_count": null,
   "metadata": {
    "ExecuteTime": {
     "end_time": "2022-08-27T18:19:39.510404Z",
     "start_time": "2022-08-27T18:19:39.481961Z"
    },
    "hidden": true
   },
   "outputs": [],
   "source": [
    "fig = go.Figure()\n",
    "\n",
    "fig.add_trace(go.Scatter(\n",
    "    x=[1.5, 4.5],\n",
    "    y=[0.75, 0.75],\n",
    "    text=[\"Unfilled Rectangle\", \"Filled Rectangle\"],\n",
    "    mode=\"text\",\n",
    "))\n",
    "\n",
    "fig.update_xaxes(range=[0, 7], showgrid=False)\n",
    "fig.update_yaxes(range=[0, 3.5])\n",
    "\n",
    "fig.add_shape(type=\"rect\",\n",
    "    x0=1, y0=1, x1=2, y1=3,\n",
    "    line=dict(color=\"RoyalBlue\"),\n",
    ")\n",
    "fig.add_shape(type=\"rect\",\n",
    "    x0=3, y0=1, x1=6, y1=2,\n",
    "    line=dict(\n",
    "        color=\"RoyalBlue\",\n",
    "        width=2,\n",
    "    ),\n",
    "    fillcolor=\"LightSkyBlue\",\n",
    ")\n",
    "fig.update_shapes(dict(xref='x', yref='y'))\n",
    "fig.show()"
   ]
  },
  {
   "cell_type": "code",
   "execution_count": null,
   "metadata": {
    "ExecuteTime": {
     "end_time": "2022-08-27T18:19:39.541495Z",
     "start_time": "2022-08-27T18:19:39.512340Z"
    },
    "hidden": true
   },
   "outputs": [],
   "source": [
    "fig = go.Figure()\n",
    "\n",
    "fig.add_trace(go.Scatter(\n",
    "    x=[\"2015-02-01\", \"2015-02-02\", \"2015-02-03\", \"2015-02-04\", \"2015-02-05\",\n",
    "       \"2015-02-06\", \"2015-02-07\", \"2015-02-08\", \"2015-02-09\", \"2015-02-10\",\n",
    "       \"2015-02-11\", \"2015-02-12\", \"2015-02-13\", \"2015-02-14\", \"2015-02-15\",\n",
    "       \"2015-02-16\", \"2015-02-17\", \"2015-02-18\", \"2015-02-19\", \"2015-02-20\",\n",
    "       \"2015-02-21\", \"2015-02-22\", \"2015-02-23\", \"2015-02-24\", \"2015-02-25\",\n",
    "       \"2015-02-26\", \"2015-02-27\", \"2015-02-28\"],\n",
    "    y=[-14, -17, -8, -4, -7, -10, -12, -14, -12, -7, -11, -7, -18, -14, -14,\n",
    "       -16, -13, -7, -8, -14, -8, -3, -9, -9, -4, -13, -9, -6],\n",
    "    mode=\"lines\",\n",
    "    name=\"temperature\"\n",
    "))\n",
    "\n",
    "fig.add_vrect(\n",
    "    x0=\"2015-02-04\", x1=\"2015-02-06\",\n",
    "    fillcolor=\"LightSalmon\", opacity=0.5,\n",
    "    layer=\"below\", line_width=0,\n",
    "),\n",
    "\n",
    "fig.add_vrect(\n",
    "    x0=\"2015-02-20\", x1=\"2015-02-22\",\n",
    "    fillcolor=\"LightSalmon\", opacity=0.5,\n",
    "    layer=\"below\", line_width=0,\n",
    ")\n",
    "\n",
    "fig.show()"
   ]
  },
  {
   "cell_type": "code",
   "execution_count": null,
   "metadata": {
    "ExecuteTime": {
     "end_time": "2022-08-27T18:19:39.811138Z",
     "start_time": "2022-08-27T18:19:39.542419Z"
    },
    "hidden": true
   },
   "outputs": [],
   "source": [
    "df = px.data.stocks(indexed=True)\n",
    "fig = px.line(df, facet_col=\"company\", facet_col_wrap=2)\n",
    "\n",
    "fig.add_hline(y=1, \n",
    "              line_dash=\"dot\",\n",
    "              annotation_text=\"Jan 1, 2018 baseline\",\n",
    "              annotation_position=\"bottom right\")\n",
    "\n",
    "fig.add_vrect(x0=\"2018-09-24\", \n",
    "              x1=\"2018-12-18\", \n",
    "              col=1,\n",
    "              annotation_text=\"decline\", \n",
    "              annotation_position=\"top left\",\n",
    "              fillcolor=\"green\", \n",
    "              opacity=0.25, \n",
    "              line_width=0)\n",
    "\n",
    "fig.show()"
   ]
  },
  {
   "cell_type": "markdown",
   "metadata": {
    "heading_collapsed": true,
    "hidden": true
   },
   "source": [
    "## Configuration options\n",
    "\n",
    "This shows you how to change the options on the graph, to do things like:\n",
    "\n",
    "* allow users to draw their own shapes on the graph\n",
    "* hide the display bar that shows up on the top-right of plots"
   ]
  },
  {
   "cell_type": "code",
   "execution_count": null,
   "metadata": {
    "ExecuteTime": {
     "end_time": "2022-08-27T18:19:39.827179Z",
     "start_time": "2022-08-27T18:19:39.815149Z"
    },
    "hidden": true
   },
   "outputs": [],
   "source": [
    "fig = go.Figure(\n",
    "    data=go.Scatter(\n",
    "        x=[1, 2, 3],\n",
    "        y=[1, 3, 1]\n",
    "    ),\n",
    "    layout_title_text=\"No modebar!\"\n",
    ")\n",
    "\n",
    "fig.show(config=dict(displayModeBar=False))"
   ]
  },
  {
   "cell_type": "code",
   "execution_count": null,
   "metadata": {
    "ExecuteTime": {
     "end_time": "2022-08-27T18:19:39.858262Z",
     "start_time": "2022-08-27T18:19:39.828182Z"
    },
    "hidden": true
   },
   "outputs": [],
   "source": [
    "fig = go.Figure()\n",
    "\n",
    "fig.add_annotation(\n",
    "    x=0.5, xref=\"paper\", # setting ref to \"paper\" means (0, 1) are ends of plot, rather than referring to plot axes\n",
    "    y=0.5, yref=\"paper\",\n",
    "    text=\"Click and drag here <br> to draw a rectangle <br><br> or select another shape <br>in the modebar\",\n",
    "    font_size=20\n",
    ")\n",
    "\n",
    "fig.add_shape(\n",
    "    editable=True,\n",
    "    x0=-1, x1=0, y0=2, y1=3,\n",
    "    xref='x', yref='y'# this means the values refer to the plot axes\n",
    ")\n",
    "\n",
    "fig.update_layout(dragmode='drawrect')\n",
    "\n",
    "fig.show(config={'modeBarButtonsToAdd': [\n",
    "    'drawline',\n",
    "    'drawopenpath',\n",
    "    'drawclosedpath',\n",
    "    'drawcircle',\n",
    "    'drawrect',\n",
    "    'eraseshape'\n",
    "]})"
   ]
  },
  {
   "cell_type": "markdown",
   "metadata": {
    "hidden": true
   },
   "source": [
    "You can also use `line_color` and `fillcolor` arguments to customise the shapes:"
   ]
  },
  {
   "cell_type": "code",
   "execution_count": null,
   "metadata": {
    "ExecuteTime": {
     "end_time": "2022-08-27T18:19:39.874303Z",
     "start_time": "2022-08-27T18:19:39.859264Z"
    },
    "hidden": true
   },
   "outputs": [],
   "source": [
    "fig = go.Figure()\n",
    "\n",
    "fig.add_annotation(\n",
    "    x=0.5, xref=\"paper\",\n",
    "    y=0.5, yref=\"paper\",\n",
    "    text=\"Click and drag here <br> to draw a rectangle <br><br> or select another shape <br>in the modebar\",\n",
    "    font_size=20\n",
    ")\n",
    "\n",
    "fig.add_shape(\n",
    "    line_color='yellow', fillcolor='turquoise',\n",
    "    editable=True,\n",
    "    x0=-1, x1=0, y0=2, y1=3,\n",
    "    xref='x', yref='y'\n",
    ")\n",
    "\n",
    "fig.update_layout(dragmode='drawrect',\n",
    "                  newshape=dict(line_color='yellow', fillcolor='turquoise', opacity=0.5))\n",
    "\n",
    "fig.show(config={'modeBarButtonsToAdd': [\n",
    "    'drawline',\n",
    "    'drawopenpath',\n",
    "    'drawclosedpath',\n",
    "    'drawcircle',\n",
    "    'drawrect',\n",
    "    'eraseshape'\n",
    "]})"
   ]
  },
  {
   "cell_type": "markdown",
   "metadata": {
    "heading_collapsed": true,
    "hidden": true
   },
   "source": [
    "## Annotations\n",
    "\n",
    "Annotations are relatively straightforward in plotly - you basically add them just like you add points for a regular scatter graph, except that it's text rather than a point!)."
   ]
  },
  {
   "cell_type": "code",
   "execution_count": null,
   "metadata": {
    "ExecuteTime": {
     "end_time": "2022-08-27T18:19:39.890345Z",
     "start_time": "2022-08-27T18:19:39.875306Z"
    },
    "hidden": true
   },
   "outputs": [],
   "source": [
    "fig = go.Figure(\n",
    "    data = go.Scatter(\n",
    "        x=[0.5, 1, 1.5],\n",
    "        y=[1, 1, 1],\n",
    "        mode=\"text\",\n",
    "        text=[\"Text A\", \"Text B\", \"Text C\"]\n",
    "    ),\n",
    "    layout = go.Layout(\n",
    "        width=400,\n",
    "        height=250,\n",
    "        margin=dict(l=20,r=20,t=20,b=20),\n",
    "        xaxis_range=[0, 2]\n",
    "    )\n",
    ")\n",
    "\n",
    "fig.show()"
   ]
  },
  {
   "cell_type": "markdown",
   "metadata": {
    "hidden": true
   },
   "source": [
    "Note you can also annotate a plotly express figure by using the `add_traces` method, and passing in `text`."
   ]
  },
  {
   "cell_type": "code",
   "execution_count": null,
   "metadata": {
    "ExecuteTime": {
     "end_time": "2022-08-27T18:19:39.984592Z",
     "start_time": "2022-08-27T18:19:39.891348Z"
    },
    "hidden": true
   },
   "outputs": [],
   "source": [
    "df = px.data.gapminder().query(\"year==2007\")\n",
    "\n",
    "fig = px.scatter(df, x=\"gdpPercap\", y=\"lifeExp\", size=\"pop\", color=\"continent\", log_x=True, size_max=60)\n",
    "\n",
    "fig.add_traces(go.Scatter(\n",
    "    x=[2000, 20000],\n",
    "    y=[80, 60],\n",
    "    mode=\"text\",\n",
    "    text=[\"Here's some text!\", \"Here's some more text!\"]\n",
    "))\n",
    "\n",
    "fig.show()"
   ]
  },
  {
   "cell_type": "markdown",
   "metadata": {
    "heading_collapsed": true,
    "hidden": true
   },
   "source": [
    "## Animations\n",
    "\n",
    "Plotly has pretty advanced animations features, and the full syntax is too complicated to be worth including here, so I've just added one example to give an idea."
   ]
  },
  {
   "cell_type": "markdown",
   "metadata": {
    "hidden": true
   },
   "source": [
    "`animation_frame` tells you which column of the dataframe should correspond to the menu on the bottom. So in the case below, each point along the menu displays a different graph from data of the form `df[df.year == year]`."
   ]
  },
  {
   "cell_type": "code",
   "execution_count": null,
   "metadata": {
    "ExecuteTime": {
     "end_time": "2022-08-27T18:19:40.250407Z",
     "start_time": "2022-08-27T18:19:39.986598Z"
    },
    "hidden": true
   },
   "outputs": [],
   "source": [
    "df = px.data.gapminder()\n",
    "px.scatter(df, x=\"gdpPercap\", y=\"lifeExp\", animation_frame=\"year\",\n",
    "           size=\"pop\", color=\"continent\", hover_name=\"country\",\n",
    "           log_x=True, size_max=55, range_x=[100,100000], range_y=[25,90])"
   ]
  },
  {
   "cell_type": "markdown",
   "metadata": {
    "hidden": true
   },
   "source": [
    "There are ways to do animations with `go.Figure()`, but these are quite complicated and not worth diving into."
   ]
  },
  {
   "cell_type": "markdown",
   "metadata": {
    "heading_collapsed": true,
    "hidden": true
   },
   "source": [
    "## Subplots\n",
    "\n",
    "This shows you how to create subplots, i.e. multiple graphs in the same output."
   ]
  },
  {
   "cell_type": "code",
   "execution_count": null,
   "metadata": {
    "ExecuteTime": {
     "end_time": "2022-08-27T18:19:40.281829Z",
     "start_time": "2022-08-27T18:19:40.252753Z"
    },
    "hidden": true
   },
   "outputs": [],
   "source": [
    "fig = make_subplots(rows=1, cols=2)\n",
    "\n",
    "fig.add_trace(go.Scatter(y=[4, 2, 1], mode=\"lines\"), row=1, col=1)\n",
    "fig.add_trace(go.Bar(y=[2, 1, 3]), row=1, col=2)\n",
    "\n",
    "fig.show()"
   ]
  },
  {
   "cell_type": "code",
   "execution_count": null,
   "metadata": {
    "ExecuteTime": {
     "end_time": "2022-08-27T18:19:40.643563Z",
     "start_time": "2022-08-27T18:19:40.283835Z"
    },
    "hidden": true
   },
   "outputs": [],
   "source": [
    "df = pd.read_csv(\"https://raw.githubusercontent.com/plotly/datasets/master/Mining-BTC-180.csv\", usecols=range(1, 9))\n",
    "\n",
    "for i, row in enumerate(df[\"Date\"]):\n",
    "    df.iat[i, 0] = re.compile(\" 00:00:00\").split(df[\"Date\"][i])[0]\n",
    "\n",
    "fig = make_subplots(\n",
    "    rows=3, cols=1,\n",
    "    shared_xaxes=True,\n",
    "    vertical_spacing=0.03,\n",
    "    specs=[[{\"type\": \"table\"}],\n",
    "           [{\"type\": \"scatter\"}],\n",
    "           [{\"type\": \"scatter\"}]]\n",
    ")\n",
    "\n",
    "fig.add_trace(\n",
    "    go.Scatter(\n",
    "        x=df[\"Date\"],\n",
    "        y=df[\"Mining-revenue-USD\"],\n",
    "        mode=\"lines\",\n",
    "        name=\"mining revenue\"\n",
    "    ),\n",
    "    row=3, col=1\n",
    ")\n",
    "\n",
    "fig.add_trace(\n",
    "    go.Scatter(\n",
    "        x=df[\"Date\"],\n",
    "        y=df[\"Hash-rate\"],\n",
    "        mode=\"lines\",\n",
    "        name=\"hash-rate-TH/s\"\n",
    "    ),\n",
    "    row=2, col=1\n",
    ")\n",
    "\n",
    "fig.add_trace(\n",
    "    go.Table(\n",
    "        header=dict(\n",
    "            values=[\"Date\", \"Number<br>Transactions\", \"Output<br>Volume (BTC)\",\n",
    "                    \"Market<br>Price\", \"Hash<br>Rate\", \"Cost per<br>trans-USD\",\n",
    "                    \"Mining<br>Revenue-USD\", \"Trasaction<br>fees-BTC\"],\n",
    "            font_size=10,\n",
    "            align=\"left\"\n",
    "        ),\n",
    "        cells=dict(\n",
    "            values=[df[k].tolist() for k in df.columns],\n",
    "            align = \"left\")\n",
    "    ),\n",
    "    row=1, col=1\n",
    ")\n",
    "fig.update_layout(\n",
    "    height=700,\n",
    "    width=800,\n",
    "    margin=dict(l=20,t=50,b=20,r=20),\n",
    "    showlegend=False,\n",
    "    title_text=\"Bitcoin mining stats for 180 days\",\n",
    ")\n",
    "\n",
    "fig.show()"
   ]
  },
  {
   "cell_type": "markdown",
   "metadata": {
    "hidden": true
   },
   "source": [
    "Note that you can create subplots from plotly express charts using this small hack: \n",
    "\n",
    "* Create your plotly express figure as you normally would (e.g. `subfig = px.scatter(...)`)\n",
    "* Extract the traces from it using `traces = subfig.data`\n",
    "* Loop through each trace and add it to your subplot figure using `fig.add_trace`, as shown above"
   ]
  },
  {
   "cell_type": "markdown",
   "metadata": {
    "heading_collapsed": true,
    "hidden": true
   },
   "source": [
    "## Time series & date axes (and financial charts)\n",
    "\n",
    "This is a showcase of some of the ways you can format the axes of a timeseries graph."
   ]
  },
  {
   "cell_type": "code",
   "execution_count": null,
   "metadata": {
    "ExecuteTime": {
     "end_time": "2022-08-27T18:19:40.705847Z",
     "start_time": "2022-08-27T18:19:40.645498Z"
    },
    "hidden": true
   },
   "outputs": [],
   "source": [
    "df = px.data.stocks()\n",
    "fig = px.line(df, x='date', y=\"GOOG\") # plotly express handles date formatting automatically (even if dates are strings)\n",
    "fig.show()"
   ]
  },
  {
   "cell_type": "code",
   "execution_count": null,
   "metadata": {
    "ExecuteTime": {
     "end_time": "2022-08-27T18:19:41.099054Z",
     "start_time": "2022-08-27T18:19:40.706767Z"
    },
    "hidden": true
   },
   "outputs": [],
   "source": [
    "df = pd.read_csv('https://raw.githubusercontent.com/plotly/datasets/master/finance-charts-apple.csv')\n",
    "fig = go.Figure([go.Scatter(x=df['Date'], y=df['AAPL.High'])]) # same is true for plotly graph objects\n",
    "fig.show()"
   ]
  },
  {
   "cell_type": "code",
   "execution_count": null,
   "metadata": {
    "ExecuteTime": {
     "end_time": "2022-08-27T18:19:41.225606Z",
     "start_time": "2022-08-27T18:19:41.100954Z"
    },
    "hidden": true
   },
   "outputs": [],
   "source": [
    "df = px.data.stocks(indexed=True)-1\n",
    "fig = px.area(df, facet_col=\"company\", facet_col_wrap=3)\n",
    "fig.show()"
   ]
  },
  {
   "cell_type": "code",
   "execution_count": null,
   "metadata": {
    "ExecuteTime": {
     "end_time": "2022-08-27T18:19:41.350851Z",
     "start_time": "2022-08-27T18:19:41.227527Z"
    },
    "hidden": true
   },
   "outputs": [],
   "source": [
    "df = pd.read_csv('https://raw.githubusercontent.com/plotly/datasets/master/finance-charts-apple.csv')\n",
    "\n",
    "fig = go.Figure(data=[go.Candlestick(x=df['Date'], \n",
    "                                     open=df['AAPL.Open'], \n",
    "                                     high=df['AAPL.High'], \n",
    "                                     low=df['AAPL.Low'], \n",
    "                                     close=df['AAPL.Close'])])\n",
    "fig.show()"
   ]
  },
  {
   "cell_type": "markdown",
   "metadata": {
    "hidden": true
   },
   "source": [
    "These next examples showcase particular behaviour of date axes in plotly. Both examples' code is pretty complicated and not very generalisable, so I wouldn't recommend remembering how to write it, just copy it from here if you need it!"
   ]
  },
  {
   "cell_type": "code",
   "execution_count": null,
   "metadata": {
    "ExecuteTime": {
     "end_time": "2022-08-27T18:19:41.461776Z",
     "start_time": "2022-08-27T18:19:41.351852Z"
    },
    "hidden": true
   },
   "outputs": [],
   "source": [
    "df = pd.read_csv('https://raw.githubusercontent.com/plotly/datasets/master/finance-charts-apple.csv')\n",
    "\n",
    "fig = px.line(df, x='Date', y='AAPL.High', title='Time Series with Rangeslider')\n",
    "\n",
    "fig.update_xaxes(\n",
    "    rangeslider_visible=True,\n",
    "    rangeselector=dict(\n",
    "        buttons=[\n",
    "            dict(count=1, label=\"1m\", step=\"month\", stepmode=\"backward\"),\n",
    "            dict(count=6, label=\"6m\", step=\"month\", stepmode=\"backward\"),\n",
    "            dict(count=1, label=\"YTD\", step=\"year\", stepmode=\"todate\"),\n",
    "            dict(count=1, label=\"1y\", step=\"year\", stepmode=\"backward\"),\n",
    "            dict(step=\"all\")\n",
    "        ]\n",
    "    )\n",
    ")\n",
    "fig.show()"
   ]
  },
  {
   "cell_type": "code",
   "execution_count": null,
   "metadata": {
    "ExecuteTime": {
     "end_time": "2022-08-27T18:19:41.557013Z",
     "start_time": "2022-08-27T18:19:41.462694Z"
    },
    "hidden": true
   },
   "outputs": [],
   "source": [
    "df = pd.read_csv('https://raw.githubusercontent.com/plotly/datasets/master/finance-charts-apple.csv')\n",
    "\n",
    "fig = go.Figure(go.Scatter(\n",
    "    x = df['Date'],\n",
    "    y = df['mavg']\n",
    "))\n",
    "\n",
    "timeperiods = [None, 1000, 60000, 3600000, 86400000, 604800000, \"M1\", \"M12\", None]\n",
    "timeformats = [\"%H:%M:%S.%L ms\", \"%H:%M:%S s\", \"%H:%M m\", \"%H:%M h\", \"%e. %b d\", \"%e. %b w\", \"%b '%y M\", \"%Y Y\"]\n",
    "\n",
    "df = pd.DataFrame({\n",
    "    \"dtickrange\": [timeperiods[i:i+2] for i in range(len(timeperiods)-1)],\n",
    "    \"value\": timeformats\n",
    "})\n",
    "\n",
    "fig.update_xaxes(\n",
    "    rangeslider_visible=True,\n",
    "    tickformatstops = [dict(df.loc[i, :]) for i in df.index]\n",
    ")\n",
    "\n",
    "fig.show()"
   ]
  },
  {
   "cell_type": "markdown",
   "metadata": {
    "heading_collapsed": true,
    "hidden": true
   },
   "source": [
    "## Marginal plots\n",
    "\n",
    "This feature allows you to put marginal plots (e.g. rugs, box plots or violin plots) on the x and y axes of your main plot. You can use it in lots of different types of graph."
   ]
  },
  {
   "cell_type": "code",
   "execution_count": null,
   "metadata": {
    "ExecuteTime": {
     "end_time": "2022-08-27T18:19:42.197838Z",
     "start_time": "2022-08-27T18:19:41.558946Z"
    },
    "hidden": true
   },
   "outputs": [],
   "source": [
    "df = px.data.iris()\n",
    "fig = px.scatter(df, x=\"sepal_length\", y=\"sepal_width\", color=\"species\", \n",
    "                 marginal_x=\"box\", marginal_y=\"violin\")\n",
    "fig.show()"
   ]
  },
  {
   "cell_type": "code",
   "execution_count": null,
   "metadata": {
    "ExecuteTime": {
     "end_time": "2022-08-27T18:19:42.339386Z",
     "start_time": "2022-08-27T18:19:42.199842Z"
    },
    "hidden": true
   },
   "outputs": [],
   "source": [
    "df = px.data.tips()\n",
    "fig = px.scatter(df, x=\"total_bill\", y=\"tip\", color=\"sex\", facet_col=\"day\", marginal_x=\"box\")\n",
    "fig.show()"
   ]
  },
  {
   "cell_type": "markdown",
   "metadata": {
    "heading_collapsed": true
   },
   "source": [
    "# `plotly`: Chart Types"
   ]
  },
  {
   "cell_type": "markdown",
   "metadata": {
    "heading_collapsed": true,
    "hidden": true
   },
   "source": [
    "## Scatter plots"
   ]
  },
  {
   "cell_type": "code",
   "execution_count": null,
   "metadata": {
    "ExecuteTime": {
     "end_time": "2022-08-27T18:19:42.402087Z",
     "start_time": "2022-08-27T18:19:42.340389Z"
    },
    "hidden": true
   },
   "outputs": [],
   "source": [
    "df = px.data.iris()\n",
    "\n",
    "fig = px.scatter(df, x=\"sepal_width\", y=\"sepal_length\", color=\"species\",\n",
    "                 size='petal_length', hover_data=['petal_width'])\n",
    "fig.show()"
   ]
  },
  {
   "cell_type": "code",
   "execution_count": null,
   "metadata": {
    "ExecuteTime": {
     "end_time": "2022-08-27T18:19:42.417961Z",
     "start_time": "2022-08-27T18:19:42.403089Z"
    },
    "hidden": true
   },
   "outputs": [],
   "source": [
    "N = 100\n",
    "random_x = np.linspace(0, 1, N)\n",
    "random_y = [np.random.randn(N) + 5, np.random.randn(N), np.random.randn(N) - 5]\n",
    "\n",
    "trace_info = [\"markers\", \"lines+markers\", \"lines\"]\n",
    "fig = go.Figure(data=[go.Scatter(x=random_x, y=y, mode=t, name=t) for (y, t) in zip(random_y, trace_info)])\n",
    "\n",
    "fig.show()"
   ]
  },
  {
   "cell_type": "code",
   "execution_count": null,
   "metadata": {
    "ExecuteTime": {
     "end_time": "2022-08-27T18:19:42.433220Z",
     "start_time": "2022-08-27T18:19:42.419133Z"
    },
    "hidden": true
   },
   "outputs": [],
   "source": [
    "fig = go.Figure(data=go.Scatter(\n",
    "    x=[1, 2, 3, 4],\n",
    "    y=[10, 11, 12, 13],\n",
    "    mode='markers',\n",
    "    marker_size=[40, 60, 80, 100],\n",
    "    marker_color=[0, 1, 2, 3]))\n",
    "\n",
    "fig.show()"
   ]
  },
  {
   "cell_type": "code",
   "execution_count": null,
   "metadata": {
    "ExecuteTime": {
     "end_time": "2022-08-27T18:19:42.465253Z",
     "start_time": "2022-08-27T18:19:42.435173Z"
    },
    "hidden": true
   },
   "outputs": [],
   "source": [
    "t = np.linspace(0, 10, 100)\n",
    "\n",
    "fig = go.Figure()\n",
    "\n",
    "fig.add_trace(go.Scatter(\n",
    "    x=t, y=np.sin(t),\n",
    "    name='sin',\n",
    "    marker_color='rgba(152, 0, 0, .8)'\n",
    "))\n",
    "\n",
    "fig.add_trace(go.Scatter(\n",
    "    x=t, y=np.cos(t),\n",
    "    name='cos',\n",
    "    marker_color='rgba(255, 182, 193, .9)'\n",
    "))\n",
    "\n",
    "# Set options common to all traces with fig.update_traces\n",
    "fig.update_traces(mode='markers', marker_line_width=2, marker_size=10)\n",
    "fig.update_layout(title='Styled Scatter',\n",
    "                  yaxis_zeroline=True, \n",
    "                  xaxis_zeroline=False)\n",
    "\n",
    "\n",
    "fig.show()"
   ]
  },
  {
   "cell_type": "code",
   "execution_count": null,
   "metadata": {
    "ExecuteTime": {
     "end_time": "2022-08-27T18:19:42.869515Z",
     "start_time": "2022-08-27T18:19:42.467258Z"
    },
    "hidden": true
   },
   "outputs": [],
   "source": [
    "data= pd.read_csv(\"https://raw.githubusercontent.com/plotly/datasets/master/2014_usa_states.csv\")\n",
    "\n",
    "fig = go.Figure(data=go.Scatter(x=data['Postal'],\n",
    "                                y=data['Population'],\n",
    "                                mode='markers+text',\n",
    "                                marker_color=data['Population'],\n",
    "                                hovertext=data['State']),\n",
    "               layout=go.Layout(title=\"Population of USA States\"))\n",
    "\n",
    "fig.show()"
   ]
  },
  {
   "cell_type": "code",
   "execution_count": null,
   "metadata": {
    "ExecuteTime": {
     "end_time": "2022-08-27T18:19:42.885556Z",
     "start_time": "2022-08-27T18:19:42.870518Z"
    },
    "hidden": true
   },
   "outputs": [],
   "source": [
    "fig = go.Figure(data=go.Scatter(\n",
    "    y = np.random.randn(500),\n",
    "    mode='markers',\n",
    "    marker=dict(\n",
    "        size=16,\n",
    "        color=np.random.randn(500),\n",
    "        colorscale='Viridis',\n",
    "        showscale=True,\n",
    "    )\n",
    "))\n",
    "fig.show()"
   ]
  },
  {
   "cell_type": "code",
   "execution_count": null,
   "metadata": {
    "ExecuteTime": {
     "end_time": "2022-08-27T18:19:42.949726Z",
     "start_time": "2022-08-27T18:19:42.886559Z"
    },
    "hidden": true
   },
   "outputs": [],
   "source": [
    "df = px.data.tips()\n",
    "fig = px.scatter(df, x=\"total_bill\", y=\"tip\", facet_col=\"sex\",\n",
    "                 width=800, height=400)\n",
    "\n",
    "fig.update_layout(\n",
    "    margin=dict(l=20, r=20, t=20, b=20),\n",
    "    paper_bgcolor=\"LightSteelBlue\",\n",
    ")\n",
    "\n",
    "fig.show()"
   ]
  },
  {
   "cell_type": "code",
   "execution_count": null,
   "metadata": {
    "ExecuteTime": {
     "end_time": "2022-08-27T23:35:11.442151Z",
     "start_time": "2022-08-27T23:35:11.379697Z"
    },
    "hidden": true
   },
   "outputs": [],
   "source": [
    "df = px.data.gapminder().query(\"year==2007\")\n",
    "\n",
    "fig = px.scatter(df, x=\"gdpPercap\", y=\"lifeExp\",\n",
    "                 size=\"pop\", color=\"continent\",\n",
    "                 log_x=True, size_max=60)\n",
    "\n",
    "fig.show()"
   ]
  },
  {
   "cell_type": "code",
   "execution_count": null,
   "metadata": {
    "ExecuteTime": {
     "end_time": "2022-08-27T18:19:43.028932Z",
     "start_time": "2022-08-27T18:19:42.950727Z"
    },
    "hidden": true
   },
   "outputs": [],
   "source": [
    "df = px.data.gapminder()\n",
    "\n",
    "fig = px.scatter(df.query(\"year==2007\"), x=\"gdpPercap\", y=\"lifeExp\",\n",
    "                 size=\"pop\", color=\"continent\",\n",
    "                 hover_name=\"country\", log_x=True, size_max=60)\n",
    "\n",
    "fig.update_layout(xaxis=dict(gridcolor=\"white\", gridwidth=2),\n",
    "                  yaxis=dict(gridcolor=\"white\", gridwidth=2),\n",
    "                  paper_bgcolor='rgb(235, 235, 235)',\n",
    "                  plot_bgcolor='rgb(235, 235, 235)')\n",
    "fig.show()"
   ]
  },
  {
   "cell_type": "code",
   "execution_count": null,
   "metadata": {
    "ExecuteTime": {
     "end_time": "2022-08-28T15:47:50.022444Z",
     "start_time": "2022-08-28T15:47:49.983284Z"
    },
    "hidden": true
   },
   "outputs": [],
   "source": [
    "country = ['Switzerland (2011)', 'Chile (2013)', 'Japan (2014)', 'United States (2012)',\n",
    "           'Poland (2010)', 'Estonia (2015)', 'Luxembourg (2013)', 'Portugal (2011)']\n",
    "voting_pop = [40, 45.7, 52, 53.6, 54.5, 54.7, 55.1, 56.6]\n",
    "reg_voters = [49.1, 42, 52.7, 84.3, 55.3, 64.2, 91.1, 58.9]\n",
    "\n",
    "fig = go.Figure()\n",
    "\n",
    "fig.add_trace(go.Scatter(\n",
    "    x=voting_pop,\n",
    "    y=country,\n",
    "    name='Percent of estimated voting age population',\n",
    "    marker=dict(\n",
    "        color='rgba(156, 165, 196, 0.95)',\n",
    "        line_color='rgba(156, 165, 196, 1.0)',\n",
    "    )\n",
    "))\n",
    "fig.add_trace(go.Scatter(\n",
    "    x=reg_voters, y=country,\n",
    "    name='Percent of estimated registered voters',\n",
    "    marker=dict(\n",
    "        color='rgba(204, 204, 204, 0.95)',\n",
    "        line_color='rgba(217, 217, 217, 1.0)'\n",
    "    )\n",
    "))\n",
    "\n",
    "fig.update_traces(mode='markers', \n",
    "                  marker=dict(line_width=1, symbol='circle', size=16))\n",
    "\n",
    "fig.update_layout(\n",
    "    title=\"Votes cast for 10 lowest voting age population in OECD countries\",\n",
    "    xaxis=dict(\n",
    "        showgrid=False,\n",
    "        showline=True,\n",
    "        linecolor='rgb(102, 102, 102)',\n",
    "        tickfont_color='rgb(102, 102, 102)',\n",
    "        showticklabels=True,\n",
    "        dtick=10,\n",
    "        ticks='outside',\n",
    "        tickcolor='rgb(102, 102, 102)',\n",
    "    ),\n",
    "    margin=dict(l=140, r=40, b=50, t=80),\n",
    "    legend=dict(\n",
    "        font_size=11,\n",
    "        yanchor='middle',\n",
    "        xanchor='right',\n",
    "    ),\n",
    "    width=800,\n",
    "    height=450,\n",
    "    paper_bgcolor='white',\n",
    "    plot_bgcolor='white',\n",
    "    hovermode='closest',\n",
    ")\n",
    "fig.show()"
   ]
  },
  {
   "cell_type": "markdown",
   "metadata": {
    "heading_collapsed": true,
    "hidden": true
   },
   "source": [
    "## Line charts"
   ]
  },
  {
   "cell_type": "code",
   "execution_count": null,
   "metadata": {
    "ExecuteTime": {
     "end_time": "2022-08-28T15:49:45.686044Z",
     "start_time": "2022-08-28T15:49:45.432217Z"
    },
    "hidden": true
   },
   "outputs": [],
   "source": [
    "df = px.data.gapminder()\n",
    "\n",
    "df = df[df.continent.isin([\"Americas\"])]\n",
    "\n",
    "fig = px.line(df, x=\"year\", y=\"lifeExp\", color='country')\n",
    "fig.show()"
   ]
  },
  {
   "cell_type": "code",
   "execution_count": null,
   "metadata": {
    "ExecuteTime": {
     "end_time": "2022-08-28T15:49:46.713478Z",
     "start_time": "2022-08-28T15:49:46.690418Z"
    },
    "hidden": true
   },
   "outputs": [],
   "source": [
    "month = ['January', 'February', 'March', 'April', 'May', 'June', 'July',\n",
    "         'August', 'September', 'October', 'November', 'December']\n",
    "high_2000 = [32.5, 37.6, 49.9, 53.0, 69.1, 75.4, 76.5, 76.6, 70.7, 60.6, 45.1, 29.3]\n",
    "low_2000 = [13.8, 22.3, 32.5, 37.2, 49.9, 56.1, 57.7, 58.3, 51.2, 42.8, 31.6, 15.9]\n",
    "high_2007 = [36.5, 26.6, 43.6, 52.3, 71.5, 81.4, 80.5, 82.2, 76.0, 67.3, 46.1, 35.0]\n",
    "low_2007 = [23.6, 14.0, 27.0, 36.8, 47.6, 57.7, 58.9, 61.2, 53.3, 48.5, 31.0, 23.6]\n",
    "high_2014 = [28.8, 28.5, 37.0, 56.8, 69.7, 79.7, 78.5, 77.8, 74.1, 62.6, 45.3, 39.9]\n",
    "low_2014 = [12.7, 14.3, 18.6, 35.5, 49.9, 58.0, 60.0, 58.6, 51.7, 45.2, 32.2, 29.1]\n",
    "\n",
    "y_data = [high_2000, low_2000, high_2007, low_2007, high_2014, low_2014]\n",
    "names = [\"High 2000\", \"Low 2000\", \"High 2007\", \"Low 2007\", \"High 2014\", \"Low 2014\"]\n",
    "colors = [\"firebrick\", \"royalblue\"]\n",
    "dash_type = [\"solid\", \"dash\", \"dot\"]\n",
    "\n",
    "fig = go.Figure(\n",
    "    data=[\n",
    "        go.Scatter(x=month, y=y, name=name, line=dict(color=color, width=4, dash=dash))\n",
    "        for (y, name, color, dash) in zip(y_data, names, colors*3, dash_type*2)\n",
    "    ],\n",
    "    layout=go.Layout(\n",
    "        title='Average High and Low Temperatures in New York',\n",
    "        xaxis_title='Month',\n",
    "        yaxis_title='Temperature (degrees F)'\n",
    "    )\n",
    ")\n",
    "\n",
    "fig.show()"
   ]
  },
  {
   "cell_type": "code",
   "execution_count": null,
   "metadata": {
    "ExecuteTime": {
     "end_time": "2022-08-27T18:19:43.187024Z",
     "start_time": "2022-08-27T18:19:43.171985Z"
    },
    "hidden": true
   },
   "outputs": [],
   "source": [
    "fig = go.Figure(\n",
    "    data=[\n",
    "        go.Scatter(\n",
    "            x=list(range(15)),\n",
    "            y=[10, 20, \"X\", 15, 10, 5, 15, \"A\", 20, 10, 10, 15, 25, 20, 10],\n",
    "            name = '<b>No</b> Gaps',\n",
    "            connectgaps=True\n",
    "        ),\n",
    "        go.Scatter(\n",
    "            x=list(range(15)),\n",
    "            y=[5, 15, np.NaN, 10, 5, 0, 10, None, 15, 5, 5, 10, 20, 15, 5],\n",
    "            name='Gaps')\n",
    "    ]\n",
    ")\n",
    "\n",
    "fig.show()"
   ]
  },
  {
   "cell_type": "code",
   "execution_count": null,
   "metadata": {
    "ExecuteTime": {
     "end_time": "2022-08-27T18:19:43.203066Z",
     "start_time": "2022-08-27T18:19:43.188026Z"
    },
    "hidden": true
   },
   "outputs": [],
   "source": [
    "x = np.array([1, 2, 3, 4, 5])\n",
    "y = np.array([1, 3, 2, 3, 1])\n",
    "\n",
    "fig = go.Figure(data=[go.Scatter(x=x, y=y, name=\"linear\", line_shape=\"linear\"),\n",
    "                      go.Scatter(x=x, y=y+5, name=\"spline\", line_shape=\"spline\"),\n",
    "                      go.Scatter(x=x, y=y+10, name=\"hv\", line_shape=\"hv\")])\n",
    "\n",
    "fig.update_traces(hoverinfo='name', mode='lines+markers')\n",
    "fig.update_layout(legend=dict(y=0.5, traceorder='reversed', font_size=16))\n",
    "\n",
    "fig.show()"
   ]
  },
  {
   "cell_type": "code",
   "execution_count": null,
   "metadata": {
    "ExecuteTime": {
     "end_time": "2022-08-28T15:50:00.152460Z",
     "start_time": "2022-08-28T15:50:00.054855Z"
    },
    "hidden": true
   },
   "outputs": [],
   "source": [
    "df = pd.read_csv('https://raw.githubusercontent.com/plotly/datasets/master/wind_speed_laurel_nebraska.csv')\n",
    "\n",
    "fig = go.Figure([\n",
    "    go.Scatter(\n",
    "        name='Measurement',\n",
    "        x=df['Time'],\n",
    "        y=df['10 Min Sampled Avg'],\n",
    "        mode='lines',\n",
    "        line_color='rgb(31, 119, 180)'\n",
    "    ),\n",
    "    go.Scatter(\n",
    "        name='Upper Bound',\n",
    "        x=df['Time'],\n",
    "        y=df['10 Min Sampled Avg']+df['10 Min Std Dev'],\n",
    "        mode='lines',\n",
    "        marker_color=\"#444\",\n",
    "        line_width=0\n",
    "    ),\n",
    "    go.Scatter(\n",
    "        name='Lower Bound',\n",
    "        x=df['Time'],\n",
    "        y=df['10 Min Sampled Avg']-df['10 Min Std Dev'],\n",
    "        marker_color=\"#444\",\n",
    "        line_width=0,\n",
    "        mode='lines',\n",
    "        fillcolor='rgba(68, 68, 68, 0.3)',\n",
    "        fill='tonexty'\n",
    "    )\n",
    "])\n",
    "\n",
    "fig.update_traces(showlegend=False)\n",
    "fig.update_layout(hovermode=\"x\")\n",
    "fig.show()"
   ]
  },
  {
   "cell_type": "markdown",
   "metadata": {
    "heading_collapsed": true,
    "hidden": true
   },
   "source": [
    "## Bar charts"
   ]
  },
  {
   "cell_type": "code",
   "execution_count": null,
   "metadata": {
    "ExecuteTime": {
     "end_time": "2022-08-27T18:19:43.388019Z",
     "start_time": "2022-08-27T18:19:43.313144Z"
    },
    "hidden": true
   },
   "outputs": [],
   "source": [
    "data_canada = px.data.gapminder()\n",
    "fig = px.bar(data_canada[data_canada.country == \"Canada\"], x='year', y='pop', hover_data=[\"lifeExp\"])\n",
    "fig.show()"
   ]
  },
  {
   "cell_type": "code",
   "execution_count": null,
   "metadata": {
    "ExecuteTime": {
     "end_time": "2022-08-28T15:54:23.727036Z",
     "start_time": "2022-08-28T15:54:23.662868Z"
    },
    "hidden": true
   },
   "outputs": [],
   "source": [
    "long_df = px.data.medals_long()\n",
    "display(long_df)\n",
    "\n",
    "px.bar(long_df, x=\"nation\", y=\"count\", color=\"medal\", barmode=\"stack\").show()"
   ]
  },
  {
   "cell_type": "code",
   "execution_count": null,
   "metadata": {
    "ExecuteTime": {
     "end_time": "2022-08-28T15:56:16.607592Z",
     "start_time": "2022-08-28T15:56:16.558463Z"
    },
    "hidden": true
   },
   "outputs": [],
   "source": [
    "data = px.data.gapminder()\n",
    "\n",
    "data_canada = data[data.country == 'Canada']\n",
    "fig = px.bar(data_canada, x='year', y='pop',\n",
    "             hover_data=['lifeExp', 'gdpPercap'], color='lifeExp',\n",
    "             labels={'pop':'population of Canada'}, height=400, color_continuous_scale=\"Bluered\")\n",
    "fig.show()"
   ]
  },
  {
   "cell_type": "code",
   "execution_count": null,
   "metadata": {
    "ExecuteTime": {
     "end_time": "2022-08-28T15:59:24.693042Z",
     "start_time": "2022-08-28T15:59:24.563450Z"
    },
    "hidden": true
   },
   "outputs": [],
   "source": [
    "df = px.data.tips()\n",
    "fig = px.bar(df, x=\"sex\", y=\"total_bill\", color=\"smoker\", barmode=\"group\",\n",
    "             facet_row=\"time\", facet_col=\"day\",\n",
    "             category_orders={\"day\": [\"Thur\", \"Fri\", \"Sat\", \"Sun\"],\n",
    "                              \"time\": [\"Lunch\", \"Dinner\"]}, \n",
    "             color_discrete_sequence=[\"darkorange\", \"brown\"])\n",
    "fig.show()"
   ]
  },
  {
   "cell_type": "code",
   "execution_count": null,
   "metadata": {
    "ExecuteTime": {
     "end_time": "2022-08-28T15:53:00.920363Z",
     "start_time": "2022-08-28T15:53:00.878961Z"
    },
    "hidden": true
   },
   "outputs": [],
   "source": [
    "df = px.data.gapminder().query(\"continent == 'Europe' and year == 2007 and pop > 2.e6\")\n",
    "fig = px.bar(df, y='pop', x='country', text='pop', template='ggplot2')\n",
    "fig.update_traces(texttemplate='%{text:.2s}', textposition='outside')\n",
    "fig.show()"
   ]
  },
  {
   "cell_type": "code",
   "execution_count": null,
   "metadata": {
    "ExecuteTime": {
     "end_time": "2022-08-28T15:52:34.544730Z",
     "start_time": "2022-08-28T15:52:34.511303Z"
    },
    "hidden": true
   },
   "outputs": [],
   "source": [
    "fig = go.Figure(\n",
    "    data=[\n",
    "        go.Bar(x=list(range(1995, 2013)),\n",
    "               y=[219, 146, 112, 127, 124, 180, 236, 207, 236, 263, 350, 430, 474, 526, 488, 537, 500, 439],\n",
    "               name='Rest of world',\n",
    "               marker_color='rgb(55, 83, 109)'),\n",
    "        go.Bar(x=list(range(1995, 2013)),\n",
    "               y=[16, 13, 10, 11, 28, 37, 43, 55, 56, 88, 105, 156, 270, 299, 340, 403, 549, 499],\n",
    "               name='China',\n",
    "               marker_color='rgb(26, 118, 255)')],\n",
    "               \n",
    "    layout=go.Layout(\n",
    "        title='US Export of Plastic Scrap',\n",
    "        xaxis_tickfont_size=14,\n",
    "        yaxis=dict(\n",
    "            title='USD (millions)',\n",
    "            titlefont_size=16,\n",
    "            tickfont_size=14,\n",
    "        ),\n",
    "        legend=dict(\n",
    "            x=0,\n",
    "            y=1.0,\n",
    "            bgcolor='rgba(255, 255, 255, 0)',\n",
    "            bordercolor='rgba(255, 255, 255, 0)'\n",
    "        ),\n",
    "        barmode='group',\n",
    "        bargap=0.15,      # gap between bars of adjacent location coordinates\n",
    "        bargroupgap=0.1   # gap between bars of the same location coordinate\n",
    "    ))\n",
    "\n",
    "fig.show()"
   ]
  },
  {
   "cell_type": "markdown",
   "metadata": {
    "heading_collapsed": true,
    "hidden": true
   },
   "source": [
    "## Box plots"
   ]
  },
  {
   "cell_type": "code",
   "execution_count": null,
   "metadata": {
    "ExecuteTime": {
     "end_time": "2022-08-27T18:19:43.821986Z",
     "start_time": "2022-08-27T18:19:43.761367Z"
    },
    "hidden": true
   },
   "outputs": [],
   "source": [
    "df = px.data.tips()\n",
    "fig = px.box(df, x=\"sex\", y=\"total_bill\")\n",
    "fig.show()"
   ]
  },
  {
   "cell_type": "code",
   "execution_count": null,
   "metadata": {
    "ExecuteTime": {
     "end_time": "2022-08-27T18:19:43.838041Z",
     "start_time": "2022-08-27T18:19:43.823990Z"
    },
    "hidden": true
   },
   "outputs": [],
   "source": [
    "x0 = np.random.randn(50)\n",
    "x1 = np.random.randn(50) + 2\n",
    "\n",
    "fig = go.Figure(data=[go.Box(x=x0), go.Box(x=x1)])\n",
    "\n",
    "fig.update_layout(height=250, width=600, margin=dict(l=20,r=20,b=20,t=20))\n",
    "fig.show()"
   ]
  },
  {
   "cell_type": "code",
   "execution_count": null,
   "metadata": {
    "ExecuteTime": {
     "end_time": "2022-08-27T18:19:43.885273Z",
     "start_time": "2022-08-27T18:19:43.839044Z"
    },
    "hidden": true
   },
   "outputs": [],
   "source": [
    "df = px.data.tips()\n",
    "fig = px.box(df, x=\"time\", y=\"total_bill\", color=\"smoker\", points=\"all\", notched=True)\n",
    "fig.show()"
   ]
  },
  {
   "cell_type": "markdown",
   "metadata": {
    "heading_collapsed": true,
    "hidden": true
   },
   "source": [
    "## Violin plots"
   ]
  },
  {
   "cell_type": "code",
   "execution_count": null,
   "metadata": {
    "ExecuteTime": {
     "end_time": "2022-08-27T18:19:43.932907Z",
     "start_time": "2022-08-27T18:19:43.886276Z"
    },
    "hidden": true
   },
   "outputs": [],
   "source": [
    "df = px.data.tips()\n",
    "fig = px.violin(df, y=\"total_bill\", box=True,\n",
    "                points='all')\n",
    "fig.show()"
   ]
  },
  {
   "cell_type": "code",
   "execution_count": null,
   "metadata": {
    "ExecuteTime": {
     "end_time": "2022-08-27T18:19:44.010388Z",
     "start_time": "2022-08-27T18:19:43.934913Z"
    },
    "hidden": true
   },
   "outputs": [],
   "source": [
    "df = px.data.tips()\n",
    "fig = px.violin(df, y=\"tip\", x=\"smoker\", color=\"sex\", box=True, points=\"all\",\n",
    "          hover_data=df.columns)\n",
    "fig.show()"
   ]
  },
  {
   "cell_type": "code",
   "execution_count": null,
   "metadata": {
    "ExecuteTime": {
     "end_time": "2022-08-28T16:01:18.765926Z",
     "start_time": "2022-08-28T16:01:18.693620Z"
    },
    "hidden": true
   },
   "outputs": [],
   "source": [
    "df = pd.read_csv(\"https://raw.githubusercontent.com/plotly/datasets/master/violin_data.csv\")\n",
    "\n",
    "fig = go.Figure()\n",
    "\n",
    "fig.add_trace(go.Violin(x=df['day'][ df['smoker'] == 'Yes' ],\n",
    "                        y=df['total_bill'][ df['smoker'] == 'Yes' ],\n",
    "                        legendgroup='Yes', scalegroup='Yes', name='Yes',\n",
    "                        side='negative',\n",
    "                        line_color='blue')\n",
    "             )\n",
    "fig.add_trace(go.Violin(x=df['day'][ df['smoker'] == 'No' ],\n",
    "                        y=df['total_bill'][ df['smoker'] == 'No' ],\n",
    "                        legendgroup='No', scalegroup='No', name='No',\n",
    "                        side='positive',\n",
    "                        line_color='orange')\n",
    "             )\n",
    "fig.update_traces(meanline_visible=True)\n",
    "fig.update_layout(violingap=0, violinmode='overlay', height=300, width=600, margin_t=20)\n",
    "fig.show()"
   ]
  },
  {
   "cell_type": "code",
   "execution_count": null,
   "metadata": {
    "ExecuteTime": {
     "end_time": "2022-08-28T16:01:25.871782Z",
     "start_time": "2022-08-28T16:01:25.821437Z"
    },
    "hidden": true
   },
   "outputs": [],
   "source": [
    "data = (np.linspace(1, 2, 12)[:, np.newaxis] * np.random.randn(12, 200) +\n",
    "            (np.arange(12) + 2 * np.random.random(12))[:, np.newaxis])\n",
    "\n",
    "colors = n_colors('rgb(5, 200, 200)', 'rgb(200, 10, 10)', 12, colortype='rgb')\n",
    "\n",
    "fig = go.Figure()\n",
    "for data_line, color in zip(data, colors):\n",
    "    fig.add_trace(go.Violin(x=data_line, line_color=color))\n",
    "\n",
    "fig.update_traces(orientation='h', side='positive', width=3, points=False)\n",
    "fig.update_layout(xaxis_showgrid=False, xaxis_zeroline=False)\n",
    "fig.show()"
   ]
  },
  {
   "cell_type": "markdown",
   "metadata": {
    "heading_collapsed": true,
    "hidden": true
   },
   "source": [
    "## Histograms"
   ]
  },
  {
   "cell_type": "code",
   "execution_count": null,
   "metadata": {
    "ExecuteTime": {
     "end_time": "2022-08-28T16:02:48.357369Z",
     "start_time": "2022-08-28T16:02:48.325364Z"
    },
    "hidden": true
   },
   "outputs": [],
   "source": [
    "df = px.data.tips()\n",
    "\n",
    "fig = make_subplots(rows=1, cols=2)\n",
    "\n",
    "fig.add_trace(go.Histogram(x=df[\"total_bill\"], nbinsx=80), 1, 1)\n",
    "fig.add_trace(go.Histogram(x=df[\"day\"]), 1, 2)\n",
    "\n",
    "fig.show()"
   ]
  },
  {
   "cell_type": "code",
   "execution_count": null,
   "metadata": {
    "ExecuteTime": {
     "end_time": "2022-08-28T16:03:44.901464Z",
     "start_time": "2022-08-28T16:03:44.877426Z"
    },
    "hidden": true
   },
   "outputs": [],
   "source": [
    "x0 = np.random.randn(500)\n",
    "x1 = np.random.randn(500) + 1\n",
    "\n",
    "fig = go.Figure(data=[go.Histogram(x=x0, marker_color='#EB89B5', name=\"Pink\"), \n",
    "                      go.Histogram(x=x1, marker_color='#330C73', name=\"Purple\")])\n",
    "\n",
    "fig.update_layout(barmode='overlay')\n",
    "fig.update_traces(opacity=0.6)\n",
    "\n",
    "fig.show()"
   ]
  },
  {
   "cell_type": "code",
   "execution_count": null,
   "metadata": {
    "ExecuteTime": {
     "end_time": "2022-08-28T16:03:22.453090Z",
     "start_time": "2022-08-28T16:03:22.373205Z"
    },
    "hidden": true
   },
   "outputs": [],
   "source": [
    "df = px.data.tips()\n",
    "fig = px.histogram(df, x=\"total_bill\", y=\"tip\", color=\"sex\",\n",
    "                   marginal=\"box\",\n",
    "                   hover_data=df.columns)\n",
    "fig.update_layout(height=350, width=750, margin=dict(l=20,r=20,t=20,b=20))\n",
    "fig.show()"
   ]
  },
  {
   "cell_type": "code",
   "execution_count": null,
   "metadata": {
    "ExecuteTime": {
     "end_time": "2022-08-27T18:19:44.512324Z",
     "start_time": "2022-08-27T18:19:44.434477Z"
    },
    "hidden": true
   },
   "outputs": [],
   "source": [
    "x1 = np.random.randn(200) - 2\n",
    "x2 = np.random.randn(200)\n",
    "x3 = np.random.randn(200) + 2\n",
    "x4 = np.random.randn(200) + 4\n",
    "\n",
    "hist_data = [x1, x2, x3, x4]\n",
    "group_labels = ['Group 1', 'Group 2', 'Group 3', 'Group 4']\n",
    "\n",
    "fig = ff.create_distplot(hist_data, group_labels, bin_size=.2)\n",
    "\n",
    "fig.show()"
   ]
  },
  {
   "cell_type": "markdown",
   "metadata": {
    "heading_collapsed": true,
    "hidden": true
   },
   "source": [
    "## Heatmaps"
   ]
  },
  {
   "cell_type": "code",
   "execution_count": null,
   "metadata": {
    "ExecuteTime": {
     "end_time": "2022-08-28T16:04:57.869152Z",
     "start_time": "2022-08-28T16:04:57.852467Z"
    },
    "hidden": true
   },
   "outputs": [],
   "source": [
    "fig = go.Figure(\n",
    "    data=go.Heatmap(\n",
    "        z=[[1, None, 30, 50, 1], [20, 1, 60, 80, 30], [30, 60, 1, -10, 20]],\n",
    "        x=['Monday', 'Tuesday', 'Wednesday', 'Thursday', 'Friday'],\n",
    "        y=['Morning', 'Afternoon', 'Evening'],\n",
    "        hoverongaps = False),\n",
    "    layout=go.Layout(width=750,height=400,margin_t=20)\n",
    ")\n",
    "fig.show()"
   ]
  },
  {
   "cell_type": "code",
   "execution_count": null,
   "metadata": {
    "ExecuteTime": {
     "end_time": "2022-08-28T16:30:06.114749Z",
     "start_time": "2022-08-28T16:30:06.076525Z"
    },
    "hidden": true
   },
   "outputs": [],
   "source": [
    "z = [[.1, .3, .5, .7],\n",
    "     [1, .8, .6, .4],\n",
    "     [.6, .4, .2, .0],\n",
    "     [.9, .7, .5, .3]]\n",
    "\n",
    "fig = px.imshow(z, color_continuous_scale='Viridis')\n",
    "fig.show()"
   ]
  },
  {
   "cell_type": "code",
   "execution_count": null,
   "metadata": {
    "ExecuteTime": {
     "end_time": "2022-08-28T16:31:49.109829Z",
     "start_time": "2022-08-28T16:31:49.069479Z"
    },
    "hidden": true
   },
   "outputs": [],
   "source": [
    "z = [[.1, .3, .5],\n",
    "     [1.0, .8, .6],\n",
    "     [.6, .4, .2]]\n",
    "\n",
    "x = ['Team A', 'Team B', 'Team C']\n",
    "y = ['Game Three', 'Game Two', 'Game One']\n",
    "\n",
    "z_text = [['Win', 'Lose', 'Win'],\n",
    "          ['Lose', 'Lose', 'Win'],\n",
    "          ['Win', 'Win', 'Lose']]\n",
    "\n",
    "fig = px.imshow(z, x=x, y=y, color_continuous_scale='Viridis', aspect=\"auto\")\n",
    "fig.update_traces(text=z_text, texttemplate=\"%{text}<br><br>z = %{z}\")\n",
    "fig.update_xaxes(side=\"top\")\n",
    "\n",
    "fig.show()"
   ]
  },
  {
   "cell_type": "code",
   "execution_count": null,
   "metadata": {
    "ExecuteTime": {
     "end_time": "2022-08-28T16:25:54.122067Z",
     "start_time": "2022-08-28T16:25:54.069317Z"
    },
    "hidden": true
   },
   "outputs": [],
   "source": [
    "data = np.random.normal(size=(25, 10)) + 0.3 * np.random.normal(size=(10,))[None, :]\n",
    "\n",
    "fig = px.imshow(np.corrcoef(data), color_continuous_scale=\"RdBu_r\", origin=\"lower\")\n",
    "\n",
    "fig.show()"
   ]
  },
  {
   "cell_type": "code",
   "execution_count": null,
   "metadata": {
    "ExecuteTime": {
     "end_time": "2022-08-28T16:04:44.778732Z",
     "start_time": "2022-08-28T16:04:44.733426Z"
    },
    "hidden": true
   },
   "outputs": [],
   "source": [
    "df = px.data.tips()\n",
    "\n",
    "fig = px.density_heatmap(df, x=\"total_bill\", y=\"tip\", histfunc=\"avg\")\n",
    "fig.update_layout(width=750, height=400, margin_t=20)\n",
    "\n",
    "fig.show()"
   ]
  },
  {
   "cell_type": "code",
   "execution_count": null,
   "metadata": {
    "ExecuteTime": {
     "end_time": "2022-08-27T18:19:44.703965Z",
     "start_time": "2022-08-27T18:19:44.625477Z"
    },
    "hidden": true
   },
   "outputs": [],
   "source": [
    "df = px.data.tips()\n",
    "\n",
    "fig = px.density_heatmap(df, x=\"total_bill\", y=\"tip\", facet_row=\"sex\", facet_col=\"smoker\")\n",
    "fig.update_layout(width=750, height=400, margin_t=20)\n",
    "\n",
    "fig.show()"
   ]
  },
  {
   "cell_type": "markdown",
   "metadata": {
    "heading_collapsed": true,
    "hidden": true
   },
   "source": [
    "## Treemaps"
   ]
  },
  {
   "cell_type": "code",
   "execution_count": null,
   "metadata": {
    "ExecuteTime": {
     "end_time": "2022-08-28T16:37:48.527371Z",
     "start_time": "2022-08-28T16:37:48.317679Z"
    },
    "hidden": true
   },
   "outputs": [],
   "source": [
    "df = px.data.gapminder().query(\"year == 2007\")\n",
    "\n",
    "fig = px.treemap(df, path=[px.Constant(\"world\"), 'continent', 'country'], values='pop',\n",
    "                 color='lifeExp', color_continuous_scale='RdBu',\n",
    "                 color_continuous_midpoint=np.average(df['lifeExp'], weights=df['pop']))\n",
    "\n",
    "fig.update_layout(margin = dict(t=50, l=25, r=25, b=25))\n",
    "fig.show()"
   ]
  },
  {
   "cell_type": "markdown",
   "metadata": {
    "heading_collapsed": true,
    "hidden": true
   },
   "source": [
    "## Marginal plots"
   ]
  },
  {
   "cell_type": "code",
   "execution_count": null,
   "metadata": {
    "ExecuteTime": {
     "end_time": "2022-08-27T18:19:45.080447Z",
     "start_time": "2022-08-27T18:19:44.972177Z"
    },
    "hidden": true
   },
   "outputs": [],
   "source": [
    "df = px.data.iris()\n",
    "fig = px.scatter(df, x=\"sepal_length\", y=\"sepal_width\", marginal_x=\"histogram\", marginal_y=\"rug\")\n",
    "fig.show()"
   ]
  },
  {
   "cell_type": "code",
   "execution_count": null,
   "metadata": {
    "ExecuteTime": {
     "end_time": "2022-08-27T18:19:45.207198Z",
     "start_time": "2022-08-27T18:19:45.087410Z"
    },
    "hidden": true
   },
   "outputs": [],
   "source": [
    "df = px.data.iris()\n",
    "fig = px.scatter(df, x=\"sepal_length\", y=\"sepal_width\", color=\"species\", \n",
    "                 marginal_x=\"box\", marginal_y=\"violin\")\n",
    "fig.show()"
   ]
  },
  {
   "cell_type": "code",
   "execution_count": null,
   "metadata": {
    "ExecuteTime": {
     "end_time": "2022-08-27T18:19:45.396307Z",
     "start_time": "2022-08-27T18:19:45.209127Z"
    },
    "hidden": true
   },
   "outputs": [],
   "source": [
    "df = px.data.tips()\n",
    "fig = px.scatter(df, x=\"total_bill\", y=\"tip\", color=\"sex\", facet_col=\"day\", marginal_x=\"box\")\n",
    "fig.show()"
   ]
  },
  {
   "cell_type": "markdown",
   "metadata": {
    "hidden": true
   },
   "source": [
    "## Scatterplot matrix"
   ]
  },
  {
   "cell_type": "code",
   "execution_count": null,
   "metadata": {
    "ExecuteTime": {
     "end_time": "2022-08-28T16:39:07.318089Z",
     "start_time": "2022-08-28T16:39:07.276982Z"
    },
    "hidden": true
   },
   "outputs": [],
   "source": [
    "df = px.data.iris()\n",
    "fig = px.scatter_matrix(df,\n",
    "    dimensions=[\"sepal_width\", \"sepal_length\", \"petal_width\", \"petal_length\"],\n",
    "    color=\"species\")\n",
    "fig.show()"
   ]
  },
  {
   "cell_type": "code",
   "execution_count": null,
   "metadata": {
    "ExecuteTime": {
     "end_time": "2022-08-28T16:39:01.247264Z",
     "start_time": "2022-08-28T16:39:01.170457Z"
    },
    "hidden": true
   },
   "outputs": [],
   "source": [
    "df = pd.read_csv('https://raw.githubusercontent.com/plotly/datasets/master/iris-data.csv')\n",
    "index_vals = df['class'].astype('category').cat.codes\n",
    "\n",
    "fig = go.Figure(data=go.Splom(\n",
    "                dimensions=[{\"label\":col, \"values\":df[col]} \n",
    "                            for col in ['sepal length','sepal width','petal length','petal width']],\n",
    "                diagonal_visible=False,\n",
    "                text=df['class'],\n",
    "                marker=dict(color=index_vals,\n",
    "                            showscale=False,\n",
    "                            line_color='white', line_width=0.5)))\n",
    "fig.show()"
   ]
  },
  {
   "cell_type": "markdown",
   "metadata": {
    "hidden": true
   },
   "source": [
    "## Tables"
   ]
  },
  {
   "cell_type": "code",
   "execution_count": null,
   "metadata": {
    "ExecuteTime": {
     "end_time": "2022-08-28T16:39:58.940810Z",
     "start_time": "2022-08-28T16:39:58.929734Z"
    },
    "hidden": true
   },
   "outputs": [],
   "source": [
    "fig = go.Figure(data=[go.Table(\n",
    "    header=dict(values=['A Scores', 'B Scores']),\n",
    "    cells=dict(values=[[100, 90, 80, 90], [95, 85, 75, 95]])\n",
    ")])\n",
    "\n",
    "fig.update_layout(width=500, height=350)\n",
    "\n",
    "fig.show()"
   ]
  },
  {
   "cell_type": "code",
   "execution_count": null,
   "metadata": {
    "ExecuteTime": {
     "end_time": "2022-08-28T16:56:40.557738Z",
     "start_time": "2022-08-28T16:56:40.546611Z"
    },
    "hidden": true
   },
   "outputs": [],
   "source": [
    "px.colors.qualitative.Alphabet"
   ]
  },
  {
   "cell_type": "code",
   "execution_count": null,
   "metadata": {
    "ExecuteTime": {
     "end_time": "2022-08-27T18:19:45.800435Z",
     "start_time": "2022-08-27T18:19:45.711206Z"
    },
    "hidden": true
   },
   "outputs": [],
   "source": [
    "df = pd.read_csv('https://raw.githubusercontent.com/plotly/datasets/master/2014_usa_states.csv')\n",
    "\n",
    "fig = go.Figure(data=[go.Table(\n",
    "    header=dict(values=list(df.columns),\n",
    "                fill_color='paleturquoise',\n",
    "                align='left'),\n",
    "    cells=dict(values=[df.Rank, df.State, df.Postal, df.Population],\n",
    "               fill_color='lavender',\n",
    "               align='left'))\n",
    "])\n",
    "\n",
    "fig.update_layout(margin=dict(l=50,r=50,t=50,b=50))\n",
    "fig.show()"
   ]
  },
  {
   "cell_type": "code",
   "execution_count": null,
   "metadata": {
    "ExecuteTime": {
     "end_time": "2022-08-27T18:19:45.877210Z",
     "start_time": "2022-08-27T18:19:45.801437Z"
    },
    "hidden": true
   },
   "outputs": [],
   "source": [
    "df = pd.read_csv('https://raw.githubusercontent.com/plotly/datasets/master/2014_usa_states.csv')\n",
    "\n",
    "colors = n_colors('rgb(255, 220, 220)', 'rgb(220, 0, 0)', 15, colortype='rgb')\n",
    "df[\"colour\"] = pd.cut(df.Population, bins=15, right=False, labels=colors)\n",
    "\n",
    "fig = go.Figure(data=[go.Table(\n",
    "    header=dict(values=[f\"<b>{col}</b>\" for col in df.columns[:-1]],\n",
    "                fill_color=\"white\",\n",
    "                align='left',\n",
    "                font={\"color\":'black', \"size\":18}),\n",
    "    cells=dict(values=[df.Rank, df.State, df.Postal, df.Population],\n",
    "               fill_color=[df.colour],\n",
    "               align='left'))\n",
    "])\n",
    "\n",
    "fig.show()"
   ]
  },
  {
   "cell_type": "markdown",
   "metadata": {
    "heading_collapsed": true
   },
   "source": [
    "# `widgets`: Introduction"
   ]
  },
  {
   "cell_type": "markdown",
   "metadata": {
    "hidden": true
   },
   "source": [
    "Widgets are created using the syntax: **`widget = wg.WidgetName(*args)`**. You can display them in 2 ways: either by calling them directly, or by using the **`IPython.display.display`** function."
   ]
  },
  {
   "cell_type": "code",
   "execution_count": null,
   "metadata": {
    "ExecuteTime": {
     "end_time": "2022-08-28T18:52:11.332193Z",
     "start_time": "2022-08-28T18:52:11.313066Z"
    },
    "hidden": true
   },
   "outputs": [],
   "source": [
    "w = wg.IntSlider()\n",
    "w"
   ]
  },
  {
   "cell_type": "code",
   "execution_count": null,
   "metadata": {
    "ExecuteTime": {
     "end_time": "2022-08-28T18:53:19.002744Z",
     "start_time": "2022-08-28T18:53:18.989247Z"
    },
    "hidden": true
   },
   "outputs": [],
   "source": [
    "from IPython.display import display\n",
    "display(w)"
   ]
  },
  {
   "cell_type": "markdown",
   "metadata": {
    "hidden": true
   },
   "source": [
    "You can close a widget using **`widget.close()`**."
   ]
  },
  {
   "cell_type": "code",
   "execution_count": null,
   "metadata": {
    "ExecuteTime": {
     "end_time": "2022-08-28T18:54:36.290085Z",
     "start_time": "2022-08-28T18:54:36.277991Z"
    },
    "hidden": true
   },
   "outputs": [],
   "source": [
    "w = wg.IntSlider()\n",
    "w"
   ]
  },
  {
   "cell_type": "code",
   "execution_count": null,
   "metadata": {
    "ExecuteTime": {
     "end_time": "2022-08-28T18:54:37.938782Z",
     "start_time": "2022-08-28T18:54:37.925774Z"
    },
    "hidden": true
   },
   "outputs": [],
   "source": [
    "w.close()"
   ]
  },
  {
   "cell_type": "markdown",
   "metadata": {
    "hidden": true
   },
   "source": [
    "Widgets have a **`value`** property, which is how they can be used to create GUIs. This value can be changed manually by the user, but it can also be changed by setting it directly. Try running the first cell in this section, then run the cell below."
   ]
  },
  {
   "cell_type": "code",
   "execution_count": null,
   "metadata": {
    "ExecuteTime": {
     "end_time": "2022-08-27T18:19:45.941475Z",
     "start_time": "2022-08-27T18:19:45.927341Z"
    },
    "hidden": true
   },
   "outputs": [],
   "source": [
    "w.value = 10"
   ]
  },
  {
   "cell_type": "markdown",
   "metadata": {
    "hidden": true
   },
   "source": [
    "Each widget can take many different arguments, that customise its behaviour and appearance. For a full list of these, use the **`keys`** property:"
   ]
  },
  {
   "cell_type": "code",
   "execution_count": null,
   "metadata": {
    "ExecuteTime": {
     "end_time": "2022-08-27T18:19:45.957421Z",
     "start_time": "2022-08-27T18:19:45.943383Z"
    },
    "hidden": true
   },
   "outputs": [],
   "source": [
    "w.keys"
   ]
  },
  {
   "cell_type": "markdown",
   "metadata": {
    "hidden": true
   },
   "source": [
    "Some of the most common arguments for widgets that you'll likely end up using the most are:\n",
    "\n",
    "* `value` (for setting the initial value of the widget)\n",
    "* `min` and `max` (for various number-selection widgets)\n",
    "* `description` (some short text to the left of the widget, explaining what it does)\n",
    "* `options` (for various types of selection widgets)\n",
    "* `layout` and `style` (optional parameters for tweaking appearance)"
   ]
  },
  {
   "cell_type": "markdown",
   "metadata": {
    "hidden": true
   },
   "source": [
    "You can set some of these initially when you first initialise the widget, by using them as keyword arguments in the widget constructor:"
   ]
  },
  {
   "cell_type": "code",
   "execution_count": null,
   "metadata": {
    "ExecuteTime": {
     "end_time": "2022-08-27T18:19:45.972459Z",
     "start_time": "2022-08-27T18:19:45.959426Z"
    },
    "hidden": true
   },
   "outputs": [],
   "source": [
    "wg.IntSlider(value=5, min=1, max=10, description=\"Slider: \")"
   ]
  },
  {
   "cell_type": "markdown",
   "metadata": {
    "hidden": true
   },
   "source": [
    "To get a full list of widgets, use this code:"
   ]
  },
  {
   "cell_type": "code",
   "execution_count": null,
   "metadata": {
    "ExecuteTime": {
     "end_time": "2022-08-27T18:19:45.988502Z",
     "start_time": "2022-08-27T18:19:45.973463Z"
    },
    "hidden": true
   },
   "outputs": [],
   "source": [
    "widget_list = sorted([i[1].__name__ for i in wg.Widget.widget_types.items()])\n",
    "\n",
    "widget_list[:20]"
   ]
  },
  {
   "cell_type": "markdown",
   "metadata": {
    "heading_collapsed": true
   },
   "source": [
    "# `widgets`: Widget Types"
   ]
  },
  {
   "cell_type": "markdown",
   "metadata": {
    "heading_collapsed": true,
    "hidden": true
   },
   "source": [
    "## Slider"
   ]
  },
  {
   "cell_type": "code",
   "execution_count": null,
   "metadata": {
    "ExecuteTime": {
     "end_time": "2022-08-27T18:19:46.003541Z",
     "start_time": "2022-08-27T18:19:45.989505Z"
    },
    "hidden": true
   },
   "outputs": [],
   "source": [
    "w = wg.FloatSlider(\n",
    "    value = 7.5,\n",
    "    min = .0,\n",
    "    max = 100.0,\n",
    "    step = .2,\n",
    "    description = \"Slider: \",\n",
    "    orientation = \"horizontal\",\n",
    "    readout_format = \".2f\"\n",
    ")\n",
    "\n",
    "display(w)"
   ]
  },
  {
   "cell_type": "code",
   "execution_count": null,
   "metadata": {
    "ExecuteTime": {
     "end_time": "2022-08-27T18:19:46.033715Z",
     "start_time": "2022-08-27T18:19:46.019583Z"
    },
    "hidden": true
   },
   "outputs": [],
   "source": [
    "wg.IntRangeSlider(\n",
    "    value=[5, 7],\n",
    "    min=0,\n",
    "    max=10,\n",
    "    step=1,\n",
    "    description = 'Test:',\n",
    "    orientation = 'horizontal',\n",
    "    readout = True,\n",
    "    readout_format = 'd',\n",
    ")"
   ]
  },
  {
   "cell_type": "code",
   "execution_count": null,
   "metadata": {
    "ExecuteTime": {
     "end_time": "2022-08-27T18:19:46.018581Z",
     "start_time": "2022-08-27T18:19:46.004544Z"
    },
    "hidden": true
   },
   "outputs": [],
   "source": [
    "wg.FloatLogSlider(\n",
    "    base=2,\n",
    "    min=-2,\n",
    "    max=8,\n",
    "    step=1, # exponent step\n",
    "    description='Log Slider'\n",
    ")"
   ]
  },
  {
   "cell_type": "markdown",
   "metadata": {
    "heading_collapsed": true,
    "hidden": true
   },
   "source": [
    "## Text widgets"
   ]
  },
  {
   "cell_type": "code",
   "execution_count": null,
   "metadata": {
    "ExecuteTime": {
     "end_time": "2022-08-27T18:19:46.049279Z",
     "start_time": "2022-08-27T18:19:46.034717Z"
    },
    "hidden": true
   },
   "outputs": [],
   "source": [
    "wg.Text(\n",
    "    value='Hello World',\n",
    "    placeholder='Type something',\n",
    "    description='String:',\n",
    "    disabled=False\n",
    ")"
   ]
  },
  {
   "cell_type": "code",
   "execution_count": null,
   "metadata": {
    "ExecuteTime": {
     "end_time": "2022-08-27T18:19:46.064318Z",
     "start_time": "2022-08-27T18:19:46.050281Z"
    },
    "hidden": true
   },
   "outputs": [],
   "source": [
    "wg.Textarea(\n",
    "    value='Hello World',\n",
    "    placeholder='Type something',\n",
    "    description='String:',\n",
    "    disabled=False\n",
    ")"
   ]
  },
  {
   "cell_type": "markdown",
   "metadata": {
    "heading_collapsed": true,
    "hidden": true
   },
   "source": [
    "## Float text widgets"
   ]
  },
  {
   "cell_type": "code",
   "execution_count": null,
   "metadata": {
    "ExecuteTime": {
     "end_time": "2022-08-27T18:19:46.079357Z",
     "start_time": "2022-08-27T18:19:46.065321Z"
    },
    "hidden": true
   },
   "outputs": [],
   "source": [
    "wg.BoundedFloatText(\n",
    "    value=7.5,\n",
    "    min=0,\n",
    "    max=10.0,\n",
    "    step=0.1,\n",
    "    description='Text:',\n",
    ")"
   ]
  },
  {
   "cell_type": "code",
   "execution_count": null,
   "metadata": {
    "ExecuteTime": {
     "end_time": "2022-08-27T18:19:46.095350Z",
     "start_time": "2022-08-27T18:19:46.080361Z"
    },
    "hidden": true
   },
   "outputs": [],
   "source": [
    "wg.FloatText(\n",
    "    value=7.5,\n",
    "    description='Any:',\n",
    ")"
   ]
  },
  {
   "cell_type": "markdown",
   "metadata": {
    "heading_collapsed": true,
    "hidden": true
   },
   "source": [
    "## Selection widgets"
   ]
  },
  {
   "cell_type": "markdown",
   "metadata": {
    "hidden": true
   },
   "source": [
    "The example below is a standard dropdown widget. \n",
    "\n",
    "It also shows how you can make values and labels different. In this case the widget's value, i.e. the thing returned when you call `v.value`, is `2`. But the corresponding label (what you see in the dropdown) is `\"Two\"`."
   ]
  },
  {
   "cell_type": "code",
   "execution_count": null,
   "metadata": {
    "ExecuteTime": {
     "end_time": "2022-08-27T18:19:46.110841Z",
     "start_time": "2022-08-27T18:19:46.097405Z"
    },
    "hidden": true
   },
   "outputs": [],
   "source": [
    "wg.Dropdown(\n",
    "    options=[('One', 1), ('Two', 2), ('Three', 3)],\n",
    "    # or just ['1', '2', '3'] if you want values and labels to be same\n",
    "    value=2,\n",
    "    description='Number:',\n",
    ")"
   ]
  },
  {
   "cell_type": "code",
   "execution_count": null,
   "metadata": {
    "ExecuteTime": {
     "end_time": "2022-08-27T18:19:46.126480Z",
     "start_time": "2022-08-27T18:19:46.112443Z"
    },
    "hidden": true
   },
   "outputs": [],
   "source": [
    "wg.SelectMultiple(\n",
    "    options=['Apples', 'Oranges', 'Pears'],\n",
    "    description='Fruits'\n",
    ")"
   ]
  },
  {
   "cell_type": "code",
   "execution_count": null,
   "metadata": {
    "ExecuteTime": {
     "end_time": "2022-08-27T18:19:46.142521Z",
     "start_time": "2022-08-27T18:19:46.128486Z"
    },
    "hidden": true
   },
   "outputs": [],
   "source": [
    "wg.Select(\n",
    "    options=['Linux', 'Windows', 'OSX'],\n",
    "    value='OSX',\n",
    "    rows=4,\n",
    "    description='OS:',\n",
    ")"
   ]
  },
  {
   "cell_type": "code",
   "execution_count": null,
   "metadata": {
    "ExecuteTime": {
     "end_time": "2022-08-27T18:19:46.158562Z",
     "start_time": "2022-08-27T18:19:46.143525Z"
    },
    "hidden": true
   },
   "outputs": [],
   "source": [
    "wg.RadioButtons(\n",
    "    options=['pepperoni', 'pineapple', 'anchovies'],\n",
    "    value='pineapple',\n",
    "    description='Your chosen pizza topping...',\n",
    "    style={'description_width': 'initial'}, # this line makes the description fit without being cropped\n",
    ")"
   ]
  },
  {
   "cell_type": "code",
   "execution_count": null,
   "metadata": {
    "ExecuteTime": {
     "end_time": "2022-08-27T18:19:46.174690Z",
     "start_time": "2022-08-27T18:19:46.159565Z"
    },
    "hidden": true
   },
   "outputs": [],
   "source": [
    "wg.ToggleButtons(\n",
    "    options=['Slow', 'Regular', 'Fast'],\n",
    "    description='Speed:',\n",
    "    button_style='', # 'success', 'info', 'warning', 'danger' or '' (this changes the button colors)\n",
    "    tooltip='Description',\n",
    ")"
   ]
  },
  {
   "cell_type": "markdown",
   "metadata": {
    "heading_collapsed": true,
    "hidden": true
   },
   "source": [
    "## Date picker"
   ]
  },
  {
   "cell_type": "code",
   "execution_count": null,
   "metadata": {
    "ExecuteTime": {
     "end_time": "2022-08-27T18:19:46.189645Z",
     "start_time": "2022-08-27T18:19:46.176612Z"
    },
    "hidden": true
   },
   "outputs": [],
   "source": [
    "wg.DatePicker(value=datetime.date(2019, 12, 31))"
   ]
  },
  {
   "cell_type": "markdown",
   "metadata": {
    "heading_collapsed": true,
    "hidden": true
   },
   "source": [
    "## Colour picker"
   ]
  },
  {
   "cell_type": "code",
   "execution_count": null,
   "metadata": {
    "ExecuteTime": {
     "end_time": "2022-08-27T18:19:46.204683Z",
     "start_time": "2022-08-27T18:19:46.191650Z"
    },
    "hidden": true
   },
   "outputs": [],
   "source": [
    "wg.ColorPicker(\n",
    "    concise=False,\n",
    "    description='Pick a color',\n",
    "    value='blue',\n",
    "    disabled=False\n",
    ")"
   ]
  },
  {
   "cell_type": "markdown",
   "metadata": {
    "heading_collapsed": true,
    "hidden": true
   },
   "source": [
    "## Boolean widgets"
   ]
  },
  {
   "cell_type": "code",
   "execution_count": null,
   "metadata": {
    "ExecuteTime": {
     "end_time": "2022-08-27T18:19:46.219722Z",
     "start_time": "2022-08-27T18:19:46.206689Z"
    },
    "hidden": true
   },
   "outputs": [],
   "source": [
    "wg.ToggleButton(\n",
    "    value=False,\n",
    "    description='Click me',\n",
    "    button_style='warning', # 'success', 'info', 'warning', 'danger' or ''\n",
    "    icon='check'\n",
    ")"
   ]
  },
  {
   "cell_type": "code",
   "execution_count": null,
   "metadata": {
    "ExecuteTime": {
     "end_time": "2022-08-27T18:19:46.234894Z",
     "start_time": "2022-08-27T18:19:46.221729Z"
    },
    "hidden": true
   },
   "outputs": [],
   "source": [
    "wg.Checkbox(\n",
    "    value=True,\n",
    "    description='Check me',\n",
    "    indent=False\n",
    ")"
   ]
  },
  {
   "cell_type": "markdown",
   "metadata": {
    "heading_collapsed": true,
    "hidden": true
   },
   "source": [
    "## Buttons"
   ]
  },
  {
   "cell_type": "markdown",
   "metadata": {
    "hidden": true
   },
   "source": [
    "Buttons are the only widget that doesn't have a value, instead you can define a function that is called whenever you press the button. For more info, see the section **Events**, under **Widgets: Output, Interactions & Events**."
   ]
  },
  {
   "cell_type": "code",
   "execution_count": null,
   "metadata": {
    "ExecuteTime": {
     "end_time": "2022-08-27T18:19:46.250311Z",
     "start_time": "2022-08-27T18:19:46.235897Z"
    },
    "hidden": true
   },
   "outputs": [],
   "source": [
    "button = wg.Button(description=\"Click Me!\")\n",
    "\n",
    "def on_button_clicked(b):\n",
    "    print(\"Button clicked.\")\n",
    "\n",
    "button.on_click(on_button_clicked)\n",
    "\n",
    "button"
   ]
  },
  {
   "cell_type": "markdown",
   "metadata": {
    "heading_collapsed": true,
    "hidden": true
   },
   "source": [
    "## Labels & HTML"
   ]
  },
  {
   "cell_type": "markdown",
   "metadata": {
    "hidden": true
   },
   "source": [
    "These are 2 easy ways of having widgets show specific text. Neither of them are interactive."
   ]
  },
  {
   "cell_type": "code",
   "execution_count": null,
   "metadata": {
    "ExecuteTime": {
     "end_time": "2022-08-27T18:19:46.282055Z",
     "start_time": "2022-08-27T18:19:46.251957Z"
    },
    "hidden": true
   },
   "outputs": [],
   "source": [
    "layout=wg.Layout()\n",
    "\n",
    "wg.VBox(\n",
    "    children=[\n",
    "        wg.Label(value=\"IntSlider with a long title\"), \n",
    "        wg.FloatSlider(value=7.5, min=0.0, max = 100.0)\n",
    "    ])\n",
    "\n",
    "# See the next section for more on VBox and HBox"
   ]
  },
  {
   "cell_type": "code",
   "execution_count": null,
   "metadata": {
    "ExecuteTime": {
     "end_time": "2022-08-27T18:19:46.297223Z",
     "start_time": "2022-08-27T18:19:46.284061Z"
    },
    "hidden": true
   },
   "outputs": [],
   "source": [
    "wg.Label(\n",
    "    value=\"$$\\\\frac{n!}{k!(n-k)!} = \\\\binom{n}{k}$$\",\n",
    "    placeholder='Some LaTeX',\n",
    "    description='Some LaTeX',\n",
    "    disabled=False\n",
    ")"
   ]
  },
  {
   "cell_type": "code",
   "execution_count": null,
   "metadata": {
    "ExecuteTime": {
     "end_time": "2022-08-27T18:19:46.313136Z",
     "start_time": "2022-08-27T18:19:46.298097Z"
    },
    "hidden": true
   },
   "outputs": [],
   "source": [
    "wg.HTML(\"<h1>Title</h1><h2><font color='red'>Subtitle</font></h2>\")"
   ]
  },
  {
   "cell_type": "code",
   "execution_count": null,
   "metadata": {
    "ExecuteTime": {
     "end_time": "2022-08-27T18:19:46.328176Z",
     "start_time": "2022-08-27T18:19:46.315143Z"
    },
    "hidden": true
   },
   "outputs": [],
   "source": [
    "# Single dollar signs make things small and inline\n",
    "\n",
    "wg.HTMLMath(value=r\"Binomial coefficient formula: $ \\binom{n}{k} = \\frac{n!}{k!(n-k)!} $\")"
   ]
  },
  {
   "cell_type": "code",
   "execution_count": null,
   "metadata": {
    "ExecuteTime": {
     "end_time": "2022-08-27T18:19:46.343291Z",
     "start_time": "2022-08-27T18:19:46.329180Z"
    },
    "hidden": true
   },
   "outputs": [],
   "source": [
    "# Double dollar signs make things larger, and usually causes a line break\n",
    "\n",
    "wg.HTMLMath(value=r\"Binomial coefficient formula: $$ \\binom{n}{k} = \\frac{n!}{k!(n-k)!} $$\")"
   ]
  },
  {
   "cell_type": "markdown",
   "metadata": {
    "heading_collapsed": true
   },
   "source": [
    "# `widgets`: Layout"
   ]
  },
  {
   "cell_type": "markdown",
   "metadata": {
    "heading_collapsed": true,
    "hidden": true
   },
   "source": [
    "## Layout & style arguments\n",
    "\n",
    "The **`layout`** and **`style`** arguments in widget initialisation functions allows you to customise how individual widgets look."
   ]
  },
  {
   "cell_type": "code",
   "execution_count": null,
   "metadata": {
    "ExecuteTime": {
     "end_time": "2022-08-27T18:19:46.359258Z",
     "start_time": "2022-08-27T18:19:46.345221Z"
    },
    "hidden": true
   },
   "outputs": [],
   "source": [
    "wg.Button(description='(50% width, 80px height) button',\n",
    "          layout={\"width\": '50%', \"height\": '80px'})\n",
    "\n",
    "# This also does the same thing:     layout=wg.Layout(width='50%', height='80px')"
   ]
  },
  {
   "cell_type": "code",
   "execution_count": null,
   "metadata": {
    "ExecuteTime": {
     "end_time": "2022-08-27T18:19:46.391423Z",
     "start_time": "2022-08-27T18:19:46.360261Z"
    },
    "hidden": true
   },
   "outputs": [],
   "source": [
    "w1 = wg.IntSlider(description='A too long description')\n",
    "\n",
    "w2 = wg.IntSlider(description='A too long description', \n",
    "                  style={'description_width': 'initial'})\n",
    "\n",
    "display(w1, w2)"
   ]
  },
  {
   "cell_type": "code",
   "execution_count": null,
   "metadata": {
    "ExecuteTime": {
     "end_time": "2022-08-27T18:19:46.407383Z",
     "start_time": "2022-08-27T18:19:46.393346Z"
    },
    "hidden": true
   },
   "outputs": [],
   "source": [
    "wg.IntSlider(\n",
    "    layout=wg.Layout(\n",
    "        border=\"2px solid green\",\n",
    "        width=\"200px\",\n",
    "        height=\"50px\",\n",
    "        margin=\"10px 0.1cm 10px 1mm\",   # margin=[top/right/bottom/left]\n",
    "        padding=\"0 0 0 15px\"\n",
    "    )\n",
    ")"
   ]
  },
  {
   "cell_type": "markdown",
   "metadata": {
    "heading_collapsed": true,
    "hidden": true
   },
   "source": [
    "## Boxes\n",
    "\n",
    "Boxes are the simplest way to combine multiple widgets together into a single GUI."
   ]
  },
  {
   "cell_type": "code",
   "execution_count": null,
   "metadata": {
    "ExecuteTime": {
     "end_time": "2022-08-27T18:19:46.437881Z",
     "start_time": "2022-08-27T18:19:46.408386Z"
    },
    "hidden": true
   },
   "outputs": [],
   "source": [
    "wg.HBox(\n",
    "    [\n",
    "        wg.Label(value='Pizza topping with a very long label:'),\n",
    "        wg.RadioButtons(\n",
    "            options=[\n",
    "                'pepperoni',\n",
    "                'pineapple',\n",
    "                'anchovies',\n",
    "                'and the long name that will fit fine and the long name that will fit fine and the long name that will fit fine '\n",
    "            ],\n",
    "            layout=wg.Layout(width='max-content', justify_content=\"space-between\")\n",
    "        )\n",
    "    ]\n",
    ")"
   ]
  },
  {
   "cell_type": "code",
   "execution_count": null,
   "metadata": {
    "ExecuteTime": {
     "end_time": "2022-08-27T18:19:46.485449Z",
     "start_time": "2022-08-27T18:19:46.438885Z"
    },
    "hidden": true
   },
   "outputs": [],
   "source": [
    "intslider = wg.IntRangeSlider(\n",
    "    value=(20, 40), \n",
    "    min=5, \n",
    "    max=100, \n",
    "    layout=wg.Layout(height=\"auto\", width=\"auto\")\n",
    ")\n",
    " \n",
    "dropdown = wg.Dropdown(\n",
    "    placeholder='start typing... (e.g. L or o)',\n",
    "    options=['Amsterdam', 'Athens', 'Lisbon', 'London', 'Ljubljana'], \n",
    "    description='dropdown',\n",
    "    layout=wg.Layout(height=\"auto\", width=\"auto\")\n",
    ")\n",
    "\n",
    "radiobuttons = wg.RadioButtons(\n",
    "    value='feb', \n",
    "    options=['jan', 'feb', 'mar', 'apr'], \n",
    "    description='radio buttons',\n",
    ")\n",
    "\n",
    "b1 = wg.Button(description='button 1', layout=wg.Layout(height='auto', width='auto'))\n",
    "b2 = wg.Button(description='button 2', layout=wg.Layout(height='auto', width='auto'))\n",
    "\n",
    "box_layout = wg.Layout(\n",
    "        border='solid 1px red',\n",
    "        margin='5px 10px 10px 0px',\n",
    "        padding='5px 5px 5px 5px',\n",
    "        width=\"50%\",\n",
    "        justify_content='space-between'  # remove this argument ==> widgets are placed top-down, leaving space at the bottom\n",
    ")\n",
    " \n",
    "vbox1 = wg.VBox([wg.HTML('<b>Left</b>'), b1, b2, intslider], layout=box_layout)\n",
    "vbox2 = wg.VBox([wg.HTML('<b>Right</b>'), combobox, radiobuttons], layout=box_layout)\n",
    "\n",
    "wg.HBox([vbox1, vbox2])"
   ]
  },
  {
   "cell_type": "code",
   "execution_count": null,
   "metadata": {
    "ExecuteTime": {
     "end_time": "2022-08-27T18:19:46.517045Z",
     "start_time": "2022-08-27T18:19:46.486451Z"
    },
    "hidden": true
   },
   "outputs": [],
   "source": [
    "x = wg.Label(\"Align Left\", layout=wg.Layout(display=\"flex\", justify_content=\"flex-start\", width=\"30%\", border=\"solid\"))\n",
    "y = wg.Label(\"Align Center\", layout=wg.Layout(display=\"flex\", justify_content=\"center\", width=\"30%\", border=\"solid\"))\n",
    "z = wg.Label(\"Align Right\", layout=wg.Layout(display=\"flex\", justify_content=\"flex-end\", width=\"30%\", border=\"solid\"))\n",
    "display(wg.HBox([x,y,z]))"
   ]
  },
  {
   "cell_type": "markdown",
   "metadata": {
    "heading_collapsed": true,
    "hidden": true
   },
   "source": [
    "## Tabs & Accordions\n",
    "\n",
    "Tabs and Accordions can be used to show different views, each one with different widgets. This becomes especially cool when you combine it with Plotly (see later sections)."
   ]
  },
  {
   "cell_type": "code",
   "execution_count": null,
   "metadata": {
    "ExecuteTime": {
     "end_time": "2022-08-27T18:19:46.564085Z",
     "start_time": "2022-08-27T18:19:46.518048Z"
    },
    "hidden": true
   },
   "outputs": [],
   "source": [
    "wg1 = wg.IntSlider(description=\"IntSlider: \")\n",
    "wg2 = wg.Text(description=\"Text: \")\n",
    "wg3 = wg.Button(description=\"Button: \")\n",
    "wg4 = wg.DatePicker(description=\"DatePicker: \")\n",
    "wg5 = wg.Checkbox(description=\"Checkbox: \")\n",
    "\n",
    "tab = wg.Tab(children=[wg1, wg2, wg3, wg4, wg5])\n",
    "\n",
    "for idx in range(5):\n",
    "    tab.set_title(idx, f\"Tab #{idx}\")\n",
    "\n",
    "tab.selected_index = 3\n",
    "\n",
    "tab"
   ]
  },
  {
   "cell_type": "code",
   "execution_count": null,
   "metadata": {
    "ExecuteTime": {
     "end_time": "2022-08-27T18:19:46.580128Z",
     "start_time": "2022-08-27T18:19:46.565088Z"
    },
    "hidden": true
   },
   "outputs": [],
   "source": [
    "acc = wg.Accordion(children=[wg1, wg2, wg3, wg4, wg5])\n",
    "\n",
    "for idx in range(5):\n",
    "    acc.set_title(idx, f\"Accordion #{idx+1}\")\n",
    "\n",
    "acc.selected_index = 3\n",
    "\n",
    "acc"
   ]
  },
  {
   "cell_type": "markdown",
   "metadata": {
    "heading_collapsed": true
   },
   "source": [
    "# `widgets`: Output, Interactions & Events"
   ]
  },
  {
   "cell_type": "markdown",
   "metadata": {
    "heading_collapsed": true,
    "hidden": true
   },
   "source": [
    "## Output\n",
    "\n",
    "Output widgets are the canonical way to represent output with ipython widgets. You can change, append or clear output programatically."
   ]
  },
  {
   "cell_type": "markdown",
   "metadata": {
    "hidden": true
   },
   "source": [
    "Try running all 3 of the cells below in sequence."
   ]
  },
  {
   "cell_type": "code",
   "execution_count": null,
   "metadata": {
    "ExecuteTime": {
     "end_time": "2022-08-27T18:19:46.596171Z",
     "start_time": "2022-08-27T18:19:46.582132Z"
    },
    "hidden": true
   },
   "outputs": [],
   "source": [
    "out = wg.Output(layout={'border': '1px solid black', \"background-color\": \"#BBBBBB\"})\n",
    "out"
   ]
  },
  {
   "cell_type": "code",
   "execution_count": null,
   "metadata": {
    "ExecuteTime": {
     "end_time": "2022-08-27T18:19:46.659895Z",
     "start_time": "2022-08-27T18:19:46.598174Z"
    },
    "hidden": true
   },
   "outputs": [],
   "source": [
    "with out:\n",
    "    for i in range(5):\n",
    "        print(i, 'Hello world!')\n",
    "        \n",
    "with out:\n",
    "    display(wg.IntSlider(value=10))\n",
    "\n",
    "fig = px.scatter(pd.DataFrame({\"x\":np.arange(5), \"y\":np.arange(5)**2}), x=\"x\", y=\"y\")\n",
    "fig.update_layout(height=250, width=300, margin=dict(l=20,r=20,t=20,b=20))\n",
    "with out:\n",
    "    fig.show(config=dict(displayModeBar=False))"
   ]
  },
  {
   "cell_type": "code",
   "execution_count": null,
   "metadata": {
    "ExecuteTime": {
     "end_time": "2022-08-27T18:19:46.675728Z",
     "start_time": "2022-08-27T18:19:46.660897Z"
    },
    "hidden": true
   },
   "outputs": [],
   "source": [
    "out.clear_output()"
   ]
  },
  {
   "cell_type": "markdown",
   "metadata": {
    "heading_collapsed": true,
    "hidden": true
   },
   "source": [
    "## Interact\n",
    "\n",
    "The **`wg.interact()`** function links user-defined widgets to a user-defined function by having the function take the value of the widgets as inputs. It then displays both the widgets and the function output."
   ]
  },
  {
   "cell_type": "code",
   "execution_count": null,
   "metadata": {
    "ExecuteTime": {
     "end_time": "2022-08-27T18:19:46.707727Z",
     "start_time": "2022-08-27T18:19:46.676646Z"
    },
    "hidden": true
   },
   "outputs": [],
   "source": [
    "words = [\"apple\", \"apple pie\", \"anchovy\", \"banana\"]\n",
    "\n",
    "widget_text = wg.Text(value='', description='Food: ', placeholder='Type something!')\n",
    "\n",
    "def print_matching_words(text):\n",
    "    words_filtered = [word for word in words if word[:len(text)] == text]\n",
    "    print(f\"Matching words: {words_filtered}\")\n",
    "    \n",
    "wg.interact(print_matching_words, text=widget_text);"
   ]
  },
  {
   "cell_type": "markdown",
   "metadata": {
    "hidden": true
   },
   "source": [
    "You can also have the function take multiple arguments, like in the example below."
   ]
  },
  {
   "cell_type": "code",
   "execution_count": null,
   "metadata": {
    "ExecuteTime": {
     "end_time": "2022-08-27T18:19:46.738809Z",
     "start_time": "2022-08-27T18:19:46.709733Z"
    },
    "hidden": true
   },
   "outputs": [],
   "source": [
    "words = [\"apple\", \"apple pie\", \"anchovy\", \"banana\"]\n",
    "fruits = [\"apple\", \"banana\"]\n",
    "\n",
    "widget_text = wg.Text(value='', description='Food: ', placeholder='Type something!')\n",
    "widget_checkbox = wg.Checkbox(description='Only return fruit')\n",
    "\n",
    "def print_matching_words(text, checkbox):\n",
    "    words_filtered = [word for word in words if (word[:len(text)] == text) and (not checkbox or word in fruits)]\n",
    "    print(f\"Matching words: {', '.join(words_filtered)}\")\n",
    "\n",
    "wg.interact(print_matching_words, text=widget_text, checkbox=widget_checkbox);"
   ]
  },
  {
   "cell_type": "markdown",
   "metadata": {
    "heading_collapsed": true,
    "hidden": true
   },
   "source": [
    "## Decorators\n",
    "\n",
    "This is basically the same as **`wg.interact()`**, except it allows you to define a function and interact with it in one go."
   ]
  },
  {
   "cell_type": "code",
   "execution_count": null,
   "metadata": {
    "ExecuteTime": {
     "end_time": "2022-08-27T18:19:46.786200Z",
     "start_time": "2022-08-27T18:19:46.740814Z"
    },
    "hidden": true
   },
   "outputs": [],
   "source": [
    "df = pd.DataFrame({\"X\": [1,2,3,4,5], \"Y\": [5,4,3,2,1]})\n",
    "\n",
    "widget_col = wg.Dropdown(options = ['X', 'Y'], description='Column:')\n",
    "widget_x = wg.IntSlider(min = 1, max = 6, step = 1, value = 3, description='Value is $\\geq$')\n",
    "widget_label = wg.Label(\"Use the widgets to filter the dataframe!\")\n",
    "\n",
    "@wg.interact\n",
    "def show_articles_more_than(label=widget_label, column=widget_col, x=widget_x):\n",
    "    return df[df[column] >= x]"
   ]
  },
  {
   "cell_type": "markdown",
   "metadata": {
    "heading_collapsed": true,
    "hidden": true
   },
   "source": [
    "## Interactive output\n",
    "\n",
    "The big difference between **`wg.interactive_output()`** and the previous **`wg.interact()`** function is that interactive output doesn't auto-generate a user interface for the widgets, it creates an output widget to display it instead (see the earlier subsection *Output & Observe*). \n",
    "\n",
    "This means you can customise one yourself, i.e. you get more control over their appearance (rather than them just being displayed vertically, as is the default)."
   ]
  },
  {
   "cell_type": "markdown",
   "metadata": {
    "hidden": true
   },
   "source": [
    "This example is very bare-bones, just showing the basics of how interactive output works."
   ]
  },
  {
   "cell_type": "code",
   "execution_count": null,
   "metadata": {
    "ExecuteTime": {
     "end_time": "2022-08-27T18:19:46.818273Z",
     "start_time": "2022-08-27T18:19:46.787203Z"
    },
    "hidden": true
   },
   "outputs": [],
   "source": [
    "a = wg.IntSlider(description='a', max=10, value=1)\n",
    "b = wg.IntSlider(description='b', max=10, value=1)\n",
    "c = wg.IntSlider(description='c', max=10, value=1)\n",
    "\n",
    "def f(a, b, c):\n",
    "    print(f'{a}*{b}*{c}={a*b*c}')\n",
    "\n",
    "out = wg.interactive_output(f, {'a': a, 'b': b, 'c': c})\n",
    "\n",
    "wg.HBox([wg.VBox([a, b, c]), out])"
   ]
  },
  {
   "cell_type": "markdown",
   "metadata": {
    "hidden": true
   },
   "source": [
    "This example adds a bit more window-dressing, to show how you can customise the widget and output appearance."
   ]
  },
  {
   "cell_type": "code",
   "execution_count": null,
   "metadata": {
    "ExecuteTime": {
     "end_time": "2022-08-27T18:19:46.865050Z",
     "start_time": "2022-08-27T18:19:46.819275Z"
    },
    "hidden": true
   },
   "outputs": [],
   "source": [
    "a = wg.IntSlider(description='a', max=10, value=1, layout={'width':'auto'}, style={'description_width': '15%'})\n",
    "b = wg.IntSlider(description='b', max=10, value=1, layout={'width':'auto'}, style={'description_width': '15%'})\n",
    "c = wg.IntSlider(description='c', max=10, value=1, layout={'width':'auto'}, style={'description_width': '15%'})\n",
    "\n",
    "label = wg.Label(r\"Value of $a \\times b \\times c$:\")\n",
    "\n",
    "def f(a, b, c):\n",
    "    print(f'{a}*{b}*{c}={a*b*c}')\n",
    "\n",
    "out = wg.interactive_output(f, {'a': a, 'b': b, 'c': c})\n",
    "\n",
    "box_layout = {\n",
    "        'border': 'solid 1px red',\n",
    "        'margin': '5px 10px 10px 0px',\n",
    "        'padding': '5px 5px 5px 5px',\n",
    "        'display': \"flex\", \n",
    "        'justify_content': \"center\",\n",
    "}\n",
    "\n",
    "input_box = wg.VBox(\n",
    "    children=[a, b, c], \n",
    "    layout={**box_layout, \"width\":\"30%\"}\n",
    ")\n",
    "\n",
    "output_box = wg.VBox(\n",
    "    children=[label, out],\n",
    "    layout={**box_layout, \"width\":\"15%\"}\n",
    ")\n",
    "\n",
    "wg.HBox([input_box, output_box])"
   ]
  },
  {
   "cell_type": "markdown",
   "metadata": {
    "heading_collapsed": true,
    "hidden": true
   },
   "source": [
    "## Observe\n",
    "\n",
    "Using the **`observe`** method is somewhat similar to using **`interactive_output`** but the difference is observe allows you to access the widget's previous value as well as it's new value. Which one you use is mainly a matter of personal preference, i.e. which one's syntax seems more intuitive to you."
   ]
  },
  {
   "cell_type": "markdown",
   "metadata": {
    "hidden": true
   },
   "source": [
    "This first example shows the basic syntax of using **`observe`**. We define a function with a single argument (representing the widget change). In the body of the function, we can access some of the properties of the change, including:\n",
    "\n",
    "* **`name`**, which will usually be **`'value'`**\n",
    "* **`old`**, which is the old value of the widget\n",
    "* **`new`**, which is the new value of the widget"
   ]
  },
  {
   "cell_type": "code",
   "execution_count": null,
   "metadata": {
    "ExecuteTime": {
     "end_time": "2022-08-27T18:19:46.897102Z",
     "start_time": "2022-08-27T18:19:46.865992Z"
    },
    "hidden": true
   },
   "outputs": [],
   "source": [
    "v = wg.Dropdown(options=list(zip([\"one\", \"two\", \"three\", \"four\", \"five\"], range(1, 6))), value=1)\n",
    "out = wg.Output()\n",
    "\n",
    "d = wg.VBox([v, out])\n",
    "display(d)\n",
    "\n",
    "def on_value_change(change):\n",
    "    with out:\n",
    "        print(f\"{change['name']} changed from {change['old']} to {change['new']}\")\n",
    "\n",
    "v.observe(on_value_change, names='value')"
   ]
  },
  {
   "cell_type": "markdown",
   "metadata": {
    "hidden": true
   },
   "source": [
    "You can remove the link between the widget and the output, using the **`unobserve`** function. Try running the cell below, then changing the value of the dropdown, and see what happens."
   ]
  },
  {
   "cell_type": "code",
   "execution_count": null,
   "metadata": {
    "ExecuteTime": {
     "end_time": "2022-08-27T18:19:46.913144Z",
     "start_time": "2022-08-27T18:19:46.898104Z"
    },
    "hidden": true
   },
   "outputs": [],
   "source": [
    "v.unobserve(on_value_change, names='value')"
   ]
  },
  {
   "cell_type": "markdown",
   "metadata": {
    "hidden": true
   },
   "source": [
    "The next example adds a new attribute of change: **`owner`**, which is the actual widget that was changed. This can be used in some very powerful ways. The code below is quite simple, it will switch th widget value from 2 to 3 whenever it is set to 2 by the user (note that this will trigger the **`on_value_change`** function a second time)."
   ]
  },
  {
   "cell_type": "code",
   "execution_count": null,
   "metadata": {
    "ExecuteTime": {
     "end_time": "2022-08-27T18:19:46.929186Z",
     "start_time": "2022-08-27T18:19:46.915149Z"
    },
    "hidden": true
   },
   "outputs": [],
   "source": [
    "v = wg.Dropdown(options=list(zip([\"one\", \"two\", \"three\", \"four\", \"five\"], range(1, 6))), value=1)\n",
    "out = wg.Output()\n",
    "\n",
    "d = wg.VBox([v, out])\n",
    "display(d)\n",
    "\n",
    "def on_value_change(change):\n",
    "    with out:\n",
    "        print(f\"{change['name']} of {change['owner']._view_name} changed from {change['old']} to {change['new']}\")\n",
    "        if change['new'] == 2:\n",
    "            print(\"2 is a bad value!\")\n",
    "            change['owner'].value = 3\n",
    "\n",
    "v.observe(on_value_change, names='value')"
   ]
  },
  {
   "cell_type": "markdown",
   "metadata": {
    "hidden": true
   },
   "source": [
    "This example shows how you can change the value of *different* widgets in the body of your function, by referring to them explicitly by name."
   ]
  },
  {
   "cell_type": "code",
   "execution_count": null,
   "metadata": {
    "ExecuteTime": {
     "end_time": "2022-08-27T18:19:46.945214Z",
     "start_time": "2022-08-27T18:19:46.930381Z"
    },
    "hidden": true
   },
   "outputs": [],
   "source": [
    "caption = wg.Label(\"Move the slider!\")\n",
    "slider = wg.IntSlider(min=-5, max=5, value=1, description='Slider')\n",
    "\n",
    "def handle_slider_change(change):\n",
    "    caption.value = f'The slider value is {\"negative\" if change.new < 0 else \"nonnegative\"}'\n",
    "\n",
    "slider.observe(handle_slider_change, names='value')\n",
    "\n",
    "display(caption, slider)"
   ]
  },
  {
   "cell_type": "markdown",
   "metadata": {
    "hidden": true
   },
   "source": [
    "You can also observe more than one widget for a single function. The **`change`** object will always refer to the widget that was changed, which in the example below could be either of the text widgets."
   ]
  },
  {
   "cell_type": "code",
   "execution_count": null,
   "metadata": {
    "ExecuteTime": {
     "end_time": "2022-08-27T18:19:46.976307Z",
     "start_time": "2022-08-27T18:19:46.946216Z"
    },
    "hidden": true
   },
   "outputs": [],
   "source": [
    "text1 = wg.Text(placeholder=\"Type something!\")\n",
    "text2 = wg.Text(placeholder=\"Type something!\")\n",
    "label_concat = wg.Label(\"Concatenated text = ''\")\n",
    "label_change = wg.Label(\"Text hasn't been changed yet\")\n",
    "\n",
    "def handle_change(change):\n",
    "    label_concat.value = f\"Concatenated text = '{text1.value + text2.value}'\"\n",
    "    label_change.value = f\"Text changed from '{change['old']}' to '{change['new']}'\"\n",
    "    \n",
    "for text_widget in [text1, text2]:\n",
    "    text_widget.observe(handle_change, names='value')\n",
    "    \n",
    "display(text1, text2, label_concat, label_change)"
   ]
  },
  {
   "cell_type": "markdown",
   "metadata": {
    "heading_collapsed": true,
    "hidden": true
   },
   "source": [
    "## Events\n",
    "\n",
    "Events are somewhat similar to using **`observe`**, but they cater to widgets that come with specific actions associated (e.g. **`on_click`** for buttons, and **`on_submit`** for Text widgets)."
   ]
  },
  {
   "cell_type": "code",
   "execution_count": null,
   "metadata": {
    "ExecuteTime": {
     "end_time": "2022-08-27T18:19:46.991832Z",
     "start_time": "2022-08-27T18:19:46.977311Z"
    },
    "hidden": true
   },
   "outputs": [],
   "source": [
    "button = wg.Button(description=\"Click to change style!\", layout={\"width\": \"max-content\"})\n",
    "display(button)\n",
    "\n",
    "button_style_idx = 0\n",
    "def on_button_clicked(b):\n",
    "    global button_style_idx\n",
    "    button_style_idx += 1\n",
    "    print(f\"Button clicked {button_style_idx} times.\")\n",
    "    b.button_style = [\"success\", \"danger\", \"info\", \"warning\"][button_style_idx % 4]\n",
    "\n",
    "button.on_click(on_button_clicked)"
   ]
  },
  {
   "cell_type": "code",
   "execution_count": null,
   "metadata": {
    "ExecuteTime": {
     "end_time": "2022-08-27T18:19:47.007389Z",
     "start_time": "2022-08-27T18:19:46.993352Z"
    },
    "hidden": true
   },
   "outputs": [],
   "source": [
    "text = wg.Text(placeholder=\"Type something, then hit enter!\")\n",
    "display(text)\n",
    "\n",
    "def on_text_submitted(t):\n",
    "    print(t.value)\n",
    "    t.value = \"\"\n",
    "\n",
    "text.on_submit(on_text_submitted)"
   ]
  },
  {
   "cell_type": "markdown",
   "metadata": {
    "heading_collapsed": true
   },
   "source": [
    "# `plotly` & `widgets`"
   ]
  },
  {
   "cell_type": "markdown",
   "metadata": {
    "heading_collapsed": true,
    "hidden": true
   },
   "source": [
    "## Bessel Functions\n",
    "\n",
    "This is a simple example using the **`wg.interact()`** function (for more information, see the previous section). The syntax is the same here, except the function ends by showing a Plotly figure, rather than printing text output."
   ]
  },
  {
   "cell_type": "code",
   "execution_count": null,
   "metadata": {
    "ExecuteTime": {
     "end_time": "2022-08-28T17:19:45.590197Z",
     "start_time": "2022-08-28T17:19:45.556108Z"
    },
    "hidden": true
   },
   "outputs": [],
   "source": [
    "x = np.linspace(0, np.pi, 1000)\n",
    "\n",
    "layout = go.Layout(\n",
    "    title = \"SIMPLE EXAMPLE\",           # fig.layout.title = \"SIMPLE EXAMPLE\"\n",
    "    yaxis = {\"title\": \"volts\"},         # fig.layout.yaxis.title = \"volts\"\n",
    "    xaxis = {\"title\": \"nanoseconds\"},\n",
    "    width = 500,\n",
    "    height = 300,\n",
    "    margin = dict(l=40,r=40,t=60,b=40)\n",
    ")\n",
    "\n",
    "@wg.interact\n",
    "def update_plot(signals = wg.SelectMultiple(options=list(range(6)), value=(0, ), description = \"Bessel Order\"), \n",
    "                freq = wg.FloatSlider(min=1, max=20, value=1, desription=\"Freq\")):\n",
    "    \n",
    "    fig = go.Figure(layout = layout)\n",
    "    \n",
    "    for s in signals:\n",
    "        \n",
    "        trace = go.Scatter(\n",
    "            x = x,\n",
    "            y = scipy.special.jv(s, freq * x), \n",
    "            mode = \"lines\",\n",
    "            name = f\"Bessel {s}\", \n",
    "        )\n",
    "        \n",
    "        fig.add_traces(trace)\n",
    "\n",
    "    fig.show()"
   ]
  },
  {
   "cell_type": "markdown",
   "metadata": {
    "heading_collapsed": true,
    "hidden": true
   },
   "source": [
    "## Sine waves\n",
    "\n",
    "This shows how you can abbreviate widgets when you use **`wg.interact`**. For instance, **`(1.0, 4.0, 0.05)`** means a slider widget with minimum 1, maximum 4, and step size 0.05. Personally, I don't like using this notation, but it's useful to be aware of."
   ]
  },
  {
   "cell_type": "code",
   "execution_count": null,
   "metadata": {
    "ExecuteTime": {
     "end_time": "2022-08-27T18:19:47.133461Z",
     "start_time": "2022-08-27T18:19:47.073304Z"
    },
    "hidden": true
   },
   "outputs": [],
   "source": [
    "fig = go.FigureWidget(\n",
    "    layout=go.Layout(\n",
    "        title_text=\"y = sin(ax - b)\",\n",
    "        width=500,\n",
    "        height=300,\n",
    "        margin=dict(l=20,r=20,t=50,b=20)\n",
    "    )\n",
    ")\n",
    "scatt = fig.add_scatter()\n",
    "\n",
    "xs=np.linspace(0, 6, 100)\n",
    "\n",
    "@wg.interact(a=(1.0, 4.0, 0.05), b=(0, 10.0, 0.05), color=['red', 'green', 'blue'])\n",
    "def update(a=3.6, b=4.3, color='blue'):\n",
    "    ys = np.sin(a*xs - b)\n",
    "    with fig.batch_update():\n",
    "        fig.data[0].x = xs\n",
    "        fig.data[0].y = ys\n",
    "        fig.data[0].line.color = color\n",
    "    fig.show()"
   ]
  },
  {
   "cell_type": "markdown",
   "metadata": {
    "heading_collapsed": true,
    "hidden": true
   },
   "source": [
    "## Flights\n",
    "\n",
    "This introduces the **`go.FigureWidget`**, object which has identical syntax to the Plotly **`go.Figure`**, but it is also treated like a widget in the **`ipywidgets`** library (i.e. you don't need to create an output widget to put the graph in; the graph itself is an output widget).\n",
    "\n",
    "This also uses the **`fig.batch_update()`** method. This is a good way to update FigureWidgets in your functions. It sends all the updates at the same time, rather than one at a time (which can create flickering).\n",
    "\n",
    "P.S. — This example is probably the most complicated in this whole notebook, so don't worry if it seems hard to interpret at first."
   ]
  },
  {
   "cell_type": "code",
   "execution_count": null,
   "metadata": {
    "ExecuteTime": {
     "end_time": "2022-08-28T18:28:16.573472Z",
     "start_time": "2022-08-28T18:28:15.721594Z"
    },
    "hidden": true
   },
   "outputs": [],
   "source": [
    "df = pd.read_csv('https://raw.githubusercontent.com/yankev/testing/master/datasets/nycflights.csv')\n",
    "df = df.drop(df.columns[[0]], axis=1)\n",
    "\n",
    "month_widget = wg.IntSlider(min=1, max=12, step=1, value=1, description='Month:', continuous_update=False)\n",
    "use_date_widget = wg.Checkbox(value=True, description='Date: ')\n",
    "airline_widget = wg.Dropdown(description='Airline:   ', options=df['carrier'].unique(), value='DL')\n",
    "origin_widget = wg.Dropdown(description='Origin Airport:', options=df['origin'].unique(), value='LGA')\n",
    "\n",
    "trace1 = go.Histogram(x=df['arr_delay'], opacity=0.75, name='Arrival Delays')\n",
    "trace2 = go.Histogram(x=df['dep_delay'], opacity=0.75, name='Departure Delays')\n",
    "data2 = [trace1, trace2]\n",
    "\n",
    "layout2 = go.Layout(title='NYC FlightDatabase', \n",
    "                    barmode='overlay', \n",
    "                    xaxis={\"title\":\"Delay in Minutes\"}, \n",
    "                    yaxis={\"title\":\"Number of Delays\"})\n",
    "\n",
    "fig_hist = go.FigureWidget(data=data2, layout=layout2)\n",
    "\n",
    "def update_histogram(change):\n",
    "\n",
    "    filter_list = (df[\"carrier\"] == airline_widget.value) & (df[\"origin\"] == origin_widget.value)\n",
    "    if use_date_widget.value:\n",
    "        filter_list &= (df['month'] == month_widget.value)\n",
    "    temp_df = df[filter_list]\n",
    "\n",
    "    with fig_hist.batch_update():\n",
    "        fig_hist.data[0].x = temp_df['arr_delay']\n",
    "        fig_hist.data[1].x = temp_df['dep_delay']\n",
    "        \n",
    "update_histogram(\"unimportant text\") # useful for triggering first response\n",
    "\n",
    "for w in [origin, textbox, month, use_date]:\n",
    "    w.observe(response, names=\"value\")\n",
    "    \n",
    "wg.VBox([container1, container2, fig])"
   ]
  },
  {
   "cell_type": "markdown",
   "metadata": {
    "heading_collapsed": true,
    "hidden": true
   },
   "source": [
    "## Querying tables\n",
    "\n",
    "This is an example of how you can query a table in realtime. For more information on the **`df.query()`** method, see [here](https://pandas.pydata.org/docs/reference/api/pandas.DataFrame.query.html)."
   ]
  },
  {
   "cell_type": "code",
   "execution_count": null,
   "metadata": {
    "ExecuteTime": {
     "end_time": "2022-08-28T18:29:15.955308Z",
     "start_time": "2022-08-28T18:29:15.819482Z"
    },
    "hidden": true
   },
   "outputs": [],
   "source": [
    "df = pd.read_csv('https://raw.githubusercontent.com/plotly/datasets/master/2014_usa_states.csv')\n",
    "\n",
    "fig = go.FigureWidget(\n",
    "    data=[\n",
    "        go.Table(\n",
    "            header={\"values\": list(df.columns),\n",
    "                    \"fill_color\": 'paleturquoise',\n",
    "                    \"align\": 'left'},\n",
    "            cells={\"values\": [df.Rank, df.State, df.Postal, df.Population],\n",
    "                   \"fill_color\": 'lavender',\n",
    "                   \"align\": 'left'}\n",
    "        )\n",
    "    ],\n",
    "    layout=go.Layout(margin=dict(l=40,r=40,t=40,b=40))\n",
    ")\n",
    "\n",
    "label_widget = wg.HTML()\n",
    "\n",
    "def handle_submit(sender):\n",
    "    query = sender.value\n",
    "    try:\n",
    "        df_reduced = df if query == \"\" else df.query(query)\n",
    "        label_widget.value = \"\"\n",
    "    except:\n",
    "        label_widget.value = f\"\"\"{repr(query)} is invalid query. Examples: \n",
    "        <code><b>State=='Alabama'</b></code>, or <code><b>Postal<'MM' and Population<1000000</b></code>\"\"\"\n",
    "        df_reduced = pd.DataFrame(columns=df.columns)\n",
    "    fig.data[0].cells.values = [df_reduced.Rank, df_reduced.State, df_reduced.Postal, df_reduced.Population]\n",
    "        \n",
    "text_widget = wg.Text(\n",
    "    value='',\n",
    "    placeholder='Type something, then press Enter!',\n",
    "    description='Query:',\n",
    "    layout=wg.Layout(width=\"75%\")\n",
    ")\n",
    "        \n",
    "text_widget.on_submit(handle_submit)\n",
    "\n",
    "display(wg.VBox([text_widget, label_widget, fig]))"
   ]
  },
  {
   "cell_type": "markdown",
   "metadata": {
    "heading_collapsed": true,
    "hidden": true
   },
   "source": [
    "## Tabs\n",
    "\n",
    "The final example of this notebook, this shows how you can combine 2 of the above instances into a single GUI, with Tabs."
   ]
  },
  {
   "cell_type": "code",
   "execution_count": null,
   "metadata": {
    "ExecuteTime": {
     "end_time": "2022-08-28T18:29:59.962809Z",
     "start_time": "2022-08-28T18:29:58.975229Z"
    },
    "hidden": true
   },
   "outputs": [],
   "source": [
    "df0 = pd.read_csv('https://raw.githubusercontent.com/plotly/datasets/master/2014_usa_states.csv')\n",
    "\n",
    "fig_table = go.FigureWidget(\n",
    "    data=[\n",
    "        go.Table(\n",
    "            header={\"values\": list(df0.columns),\n",
    "                    \"fill_color\": 'paleturquoise',\n",
    "                    \"align\": 'left'},\n",
    "            cells={\"values\": [df0[col] for col in df0.columns],\n",
    "                   \"fill_color\": 'lavender',\n",
    "                   \"align\": 'left'}\n",
    "        )\n",
    "    ],\n",
    "    layout=go.Layout(margin=dict(l=40,r=40,t=40,b=40))\n",
    ")\n",
    "\n",
    "label_widget = wg.HTML()\n",
    "\n",
    "def handle_submit(sender):\n",
    "    query = sender.value\n",
    "    try:\n",
    "        df0_reduced = df0 if query == \"\" else df0.query(query)\n",
    "        label_widget.value = \"\"\n",
    "    except:\n",
    "        label_widget.value = f\"\"\"{repr(query)} is invalid query. Examples: \n",
    "        <code><b>State=='Alabama'</b></code>, or <code><b>Postal<'MM' and Population<1000000</b></code>\"\"\"\n",
    "        df0_reduced = pd.DataFrame(columns=df0.columns)\n",
    "    fig_table.data[0].cells.values = [df0_reduced[col] for col in df0.columns]\n",
    "        \n",
    "text_widget = wg.Text(\n",
    "    value='',\n",
    "    placeholder='Type something, then press Enter!',\n",
    "    description='Query:',\n",
    "    layout=wg.Layout(width=\"75%\")\n",
    ")\n",
    "\n",
    "text_widget.on_submit(handle_submit)\n",
    "        \n",
    "\n",
    "    \n",
    "df = pd.read_csv('https://raw.githubusercontent.com/yankev/testing/master/datasets/nycflights.csv')\n",
    "df = df.drop(df.columns[[0]], axis=1)\n",
    "\n",
    "month_widget = wg.IntSlider(min=1, max=12, step=1, value=1, description='Month:', continuous_update=False)\n",
    "use_date_widget = wg.Checkbox(value=True, description='Date: ')\n",
    "airline_widget = wg.Dropdown(description='Airline:   ', options=df['carrier'].unique(), value='DL')\n",
    "origin_widget = wg.Dropdown(description='Origin Airport:', options=df['origin'].unique(), value='LGA')\n",
    "\n",
    "trace1 = go.Histogram(x=df['arr_delay'], opacity=0.75, name='Arrival Delays')\n",
    "trace2 = go.Histogram(x=df['dep_delay'], opacity=0.75, name='Departure Delays')\n",
    "data2 = [trace1, trace2]\n",
    "\n",
    "layout2 = go.Layout(title='NYC FlightDatabase', \n",
    "                    barmode='overlay', \n",
    "                    xaxis={\"title\":\"Delay in Minutes\"}, \n",
    "                    yaxis={\"title\":\"Number of Delays\"})\n",
    "\n",
    "fig_hist = go.FigureWidget(data=data2, layout=layout2)\n",
    "\n",
    "\n",
    "def update_histogram(change):\n",
    "\n",
    "    filter_list = (df[\"carrier\"] == airline_widget.value) & (df[\"origin\"] == origin_widget.value)\n",
    "    if use_date_widget.value:\n",
    "        filter_list &= (df['month'] == month_widget.value)\n",
    "    temp_df = df[filter_list]\n",
    "\n",
    "    with fig_hist.batch_update():\n",
    "        fig_hist.data[0].x = temp_df['arr_delay']\n",
    "        fig_hist.data[1].x = temp_df['dep_delay']\n",
    "        \n",
    "update_histogram(\"unimportant text\") # useful for triggering first response\n",
    "\n",
    "\n",
    "\n",
    "for widget in [airline_widget, origin_widget, month_widget, use_date_widget]:\n",
    "    widget.observe(update_histogram, names=\"value\")\n",
    "\n",
    "box_layout = wg.Layout(\n",
    "    border='solid 1px gray',\n",
    "    margin='0px 10px 10px 0px',\n",
    "    padding='5px 5px 5px 5px')\n",
    "    \n",
    "children = [\n",
    "    wg.VBox([text_widget, label_widget, fig_table]), \n",
    "    wg.VBox([\n",
    "        wg.HBox([\n",
    "            wg.VBox([use_date_widget, month_widget], layout=box_layout), \n",
    "            wg.VBox([airline_widget, origin_widget], layout=box_layout)\n",
    "        ]), \n",
    "        fig_hist\n",
    "    ])\n",
    "]\n",
    "\n",
    "tab = wg.Tab(children = children)\n",
    "tab.set_title(0, 'box #1')\n",
    "tab.set_title(1, 'box #2')"
   ]
  },
  {
   "cell_type": "code",
   "execution_count": null,
   "metadata": {
    "ExecuteTime": {
     "end_time": "2022-08-28T18:31:19.648151Z",
     "start_time": "2022-08-28T18:31:19.636127Z"
    },
    "hidden": true
   },
   "outputs": [],
   "source": [
    "display(tab)"
   ]
  }
 ],
 "metadata": {
  "kernelspec": {
   "display_name": "Python 3 (ipykernel)",
   "language": "python",
   "name": "python3"
  },
  "language_info": {
   "codemirror_mode": {
    "name": "ipython",
    "version": 3
   },
   "file_extension": ".py",
   "mimetype": "text/x-python",
   "name": "python",
   "nbconvert_exporter": "python",
   "pygments_lexer": "ipython3",
   "version": "3.9.12"
  },
  "toc": {
   "base_numbering": 1,
   "nav_menu": {},
   "number_sections": false,
   "sideBar": true,
   "skip_h1_title": false,
   "title_cell": "Table of Contents",
   "title_sidebar": "Contents",
   "toc_cell": false,
   "toc_position": {},
   "toc_section_display": true,
   "toc_window_display": false
  }
 },
 "nbformat": 4,
 "nbformat_minor": 4
}
